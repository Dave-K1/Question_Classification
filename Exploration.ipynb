{
 "cells": [
  {
   "cell_type": "markdown",
   "metadata": {},
   "source": [
    "# Exploration"
   ]
  },
  {
   "cell_type": "code",
   "execution_count": 1,
   "metadata": {},
   "outputs": [],
   "source": [
    "## Imports\n",
    "import numpy as np\n",
    "import pandas as pd\n",
    "import matplotlib.pyplot as plt\n",
    "from IPython.display import clear_output\n",
    "\n",
    "import torch.nn as nn\n",
    "import torch\n",
    "\n",
    "from tensorflow.keras.preprocessing.text import Tokenizer\n",
    "from tensorflow.keras.preprocessing.sequence import pad_sequences\n",
    "from sklearn.model_selection import train_test_split\n",
    "from sklearn.metrics import confusion_matrix\n",
    "\n",
    "import seaborn as sns\n",
    "from torch.autograd import Variable\n",
    "from sklearn.metrics import accuracy_score\n",
    "import matplotlib.pyplot as plt"
   ]
  },
  {
   "cell_type": "code",
   "execution_count": 2,
   "metadata": {},
   "outputs": [],
   "source": [
    "# Load data\n",
    "path_in = './data/'\n",
    "\n",
    "train = pd.read_csv(path_in + 'train.csv')\n",
    "test = pd.read_csv(path_in + 'test.csv')"
   ]
  },
  {
   "cell_type": "markdown",
   "metadata": {},
   "source": [
    "Data structure: Question ID (qid), question text, target.\n",
    "\n",
    "Target 0 - Negative\n",
    "\n",
    "Target 1 - Positive\n",
    "\n",
    "Training data:\n",
    "\n",
    "Around 1,300,000 samples. Will have to be split up into training, validation and testing."
   ]
  },
  {
   "cell_type": "code",
   "execution_count": 3,
   "metadata": {},
   "outputs": [
    {
     "name": "stdout",
     "output_type": "stream",
     "text": [
      "Number of samples for training: 1306122\n",
      "Ratio positives to total: 0.06\n"
     ]
    }
   ],
   "source": [
    "## Train data\n",
    "print('Number of samples for training: {}\\nRatio positives to total: {:.2f}'.format(len(train), \n",
    "                                                                                len(train.loc[train['target'] == 1])/len(train)))"
   ]
  },
  {
   "cell_type": "code",
   "execution_count": 4,
   "metadata": {},
   "outputs": [
    {
     "name": "stdout",
     "output_type": "stream",
     "text": [
      "Number of samples for training: 100000\n",
      "Ratio positives to total: 6.15%\n"
     ]
    }
   ],
   "source": [
    "# That's a lot of questions, so for faster iterations, I'm going to just use 20,000 training examples\n",
    "train = train.iloc[0:100000]\n",
    "print('Number of samples for training: {}\\nRatio positives to total: {:.2f}%'.format(len(train), \n",
    "                                                                                len(train.loc[train['target'] == 1])/len(train)*100))"
   ]
  },
  {
   "cell_type": "code",
   "execution_count": 5,
   "metadata": {},
   "outputs": [
    {
     "data": {
      "text/plain": [
       "'How did Otto von Guericke used the Magdeburg hemispheres?'"
      ]
     },
     "execution_count": 5,
     "metadata": {},
     "output_type": "execute_result"
    }
   ],
   "source": [
    "## Example sentence\n",
    "train['question_text'][3]"
   ]
  },
  {
   "cell_type": "code",
   "execution_count": 6,
   "metadata": {},
   "outputs": [
    {
     "name": "stdout",
     "output_type": "stream",
     "text": [
      "0\n",
      "000042bf85aa498cd78e\n"
     ]
    }
   ],
   "source": [
    "print(train['target'][3])\n",
    "print(train['qid'][3])"
   ]
  },
  {
   "cell_type": "markdown",
   "metadata": {},
   "source": [
    "# Preprocessing\n",
    "\n",
    "Currently, the questions are all in words that a computer will have problems handling. We have to first process the questions by tokenizing them. For example \"One fish, two fish, red fish blue fish\" -> [1 2 3 2 4 2 5 2]."
   ]
  },
  {
   "cell_type": "code",
   "execution_count": 7,
   "metadata": {},
   "outputs": [],
   "source": [
    "# Build the tokenizer dictionary in the tokenizer class\n",
    "tokenizer = Tokenizer()\n",
    "tokenizer.fit_on_texts(train['question_text'])\n",
    "tokenizer.fit_on_texts(test['question_text'])\n",
    "\n",
    "# Split train set into train and validation sets\n",
    "train, validation = train_test_split(train, test_size=0.1)\n",
    "\n",
    "# Tokenize the questions\n",
    "train_sequences = tokenizer.texts_to_sequences(train['question_text'])\n",
    "validation_sequences = tokenizer.texts_to_sequences(validation['question_text'])\n",
    "test_sequences = tokenizer.texts_to_sequences(test['question_text'])\n",
    "\n",
    "# Save the tokenizer dictionary and the number of words in it\n",
    "word_index = tokenizer.word_index\n",
    "vocab_size = len(word_index)"
   ]
  },
  {
   "cell_type": "code",
   "execution_count": 8,
   "metadata": {},
   "outputs": [
    {
     "name": "stdout",
     "output_type": "stream",
     "text": [
      "63\n",
      "55\n",
      "240\n"
     ]
    }
   ],
   "source": [
    "list_len_train = [len(i) for i in train_sequences]\n",
    "list_len_validation = [len(i) for i in validation_sequences]\n",
    "list_len_test = [len(i) for i in test_sequences]\n",
    "\n",
    "print(max(list_len_train))\n",
    "print(max(list_len_validation))\n",
    "print(max(list_len_test))"
   ]
  },
  {
   "cell_type": "code",
   "execution_count": 9,
   "metadata": {},
   "outputs": [
    {
     "name": "stdout",
     "output_type": "stream",
     "text": [
      "The mean question length in the training set is 12.88 words.\n",
      "The standard deviation of the question length in the training set is 7.08 words.\n"
     ]
    },
    {
     "data": {
      "image/png": "[encoded data removed]",
      "text/plain": [
       "<Figure size 432x288 with 1 Axes>"
      ]
     },
     "metadata": {
      "needs_background": "light"
     },
     "output_type": "display_data"
    }
   ],
   "source": [
    "sns.distplot(list_len_train, kde = True)\n",
    "print('The mean question length in the training set is {:.2f} words.'.format(np.mean(list_len_train)))\n",
    "print('The standard deviation of the question length in the training set is {:.2f} words.'.format(np.std(list_len_train)))"
   ]
  },
  {
   "cell_type": "markdown",
   "metadata": {},
   "source": [
    "As can be seen, the mean question length is 12.8 and a vast majority of the questions are under 30 words. I am therefore padding the sentences up to a length of 32 and truncating the rest"
   ]
  },
  {
   "cell_type": "code",
   "execution_count": 10,
   "metadata": {},
   "outputs": [],
   "source": [
    "# Pad sequences with 0s so that each sequence is of the same length respresented by the max_length\n",
    "max_length = 32\n",
    "padding_type = 'post'\n",
    "trunc_type = 'post'\n",
    "\n",
    "train_sequences_padded = pad_sequences(train_sequences, maxlen=max_length, padding=padding_type, truncating=trunc_type)\n",
    "validation_sequences_padded = pad_sequences(validation_sequences, maxlen=max_length, padding=padding_type, truncating=trunc_type)\n",
    "test_sequences_padded = pad_sequences(test_sequences, maxlen=max_length, padding=padding_type, truncating=trunc_type)"
   ]
  },
  {
   "cell_type": "code",
   "execution_count": 11,
   "metadata": {},
   "outputs": [],
   "source": [
    "# Convert data to tensors\n",
    "\n",
    "training_dataset = torch.utils.data.TensorDataset(torch.LongTensor(np.array(train_sequences_padded)), torch.FloatTensor(np.array(train['target'])))\n",
    "validation_dataset = torch.utils.data.TensorDataset(torch.LongTensor(np.array(validation_sequences_padded)), torch.FloatTensor(np.array(validation['target'])))"
   ]
  },
  {
   "cell_type": "code",
   "execution_count": 12,
   "metadata": {},
   "outputs": [
    {
     "data": {
      "text/plain": [
       "(tensor([    2,     3,     1,   379,    16,     1, 22870,  4423,    12,    52,\n",
       "           459,     0,     0,     0,     0,     0,     0,     0,     0,     0,\n",
       "             0,     0,     0,     0,     0,     0,     0,     0,     0,     0,\n",
       "             0,     0]), tensor(0.))"
      ]
     },
     "execution_count": 12,
     "metadata": {},
     "output_type": "execute_result"
    }
   ],
   "source": [
    "training_dataset[1]"
   ]
  },
  {
   "cell_type": "markdown",
   "metadata": {},
   "source": [
    "## Embeddings\n",
    "As a start, the 'glove.6B.50d' embedding is used.\n",
    "\n",
    "Also, you can use 'torchtext.vocab.GloVe(name='840B', dim=300)' (see [torchtext package](https://torchtext.readthedocs.io/en/latest/vocab.html#vocab) )"
   ]
  },
  {
   "cell_type": "code",
   "execution_count": 13,
   "metadata": {},
   "outputs": [],
   "source": [
    "def load_embeddings(embeddings_File, embeddings_dim):\n",
    "    print('Loading word embeddings...')\n",
    "    embeddings_index = {}\n",
    "    with open(embeddings_File,'r', encoding = 'utf8') as f:\n",
    "        for line in f:\n",
    "            values = line.split();\n",
    "            word = ''.join(values[:-1*embeddings_dim]);\n",
    "            coefs = np.asarray(values[-1*embeddings_dim:], dtype='float32');\n",
    "            embeddings_index[word] = coefs;\n",
    "\n",
    "    embeddings_matrix = np.zeros((vocab_size+1, embeddings_dim));\n",
    "    for word, i in word_index.items():\n",
    "        embedding_vector = embeddings_index.get(word);\n",
    "        if embedding_vector is not None:\n",
    "            embeddings_matrix[i] = embedding_vector;  \n",
    "            \n",
    "    print('Finished loading word embeddings. {:.0f} words loaded.'.format(len(embeddings_matrix)))\n",
    "    return embeddings_matrix"
   ]
  },
  {
   "cell_type": "code",
   "execution_count": 14,
   "metadata": {},
   "outputs": [
    {
     "name": "stdout",
     "output_type": "stream",
     "text": [
      "Loading word embeddings...\n",
      "Finished loading word embeddings. 127476 words loaded.\n"
     ]
    }
   ],
   "source": [
    "embeddings_File = './data/embeddings/glove.840B.300d/glove.840B.300d.txt'\n",
    "embeddings_dim = 300\n",
    "\n",
    "embeddings_matrix = load_embeddings(embeddings_File, embeddings_dim)"
   ]
  },
  {
   "cell_type": "markdown",
   "metadata": {},
   "source": [
    "Todo:\n",
    "\n",
    "Explore the data. Find for example the longest quora question.\n",
    "\n",
    "Pad the data with empty or null words\n",
    "\n",
    "Embed the data\n",
    "\n",
    "Create an RNN network to train the data\n",
    "\n",
    "Look at the results and iterate"
   ]
  },
  {
   "cell_type": "code",
   "execution_count": 15,
   "metadata": {},
   "outputs": [],
   "source": [
    "def weights_init(m):\n",
    "    if isinstance(m, nn.Linear):\n",
    "        nn.init.xavier_uniform_(m.weight.data)\n",
    "        nn.init.constant_(m.bias,0)\n",
    "        \n",
    "class Net(nn.Module):\n",
    "    def __init__(self, embedding_dim, seq_length, n_hidden_1, n_hidden_2, D_out):\n",
    "        super().__init__()\n",
    "        \n",
    "        # Initialize word embeddings layer using weights\n",
    "        weight = torch.FloatTensor(embeddings_matrix)\n",
    "        self.seq_length = seq_length\n",
    "        self.embeds = nn.Embedding.from_pretrained(weight)\n",
    "        \n",
    "        self.lstm1 = nn.LSTM(embedding_dim, n_hidden_1, batch_first = True)\n",
    "        \n",
    "        self.fc1 = nn.Linear(n_hidden_1, n_hidden_2)\n",
    "        self.relu1 = nn.ReLU()\n",
    "        \n",
    "        self.fc2 = nn.Linear(n_hidden_2, D_out)\n",
    "        self.out_act = nn.Sigmoid()\n",
    "        \n",
    "    def forward(self, x):\n",
    "        # Embedding layer\n",
    "        embeds_out = self.embeds(x)\n",
    "        #print(embeds_out.size())\n",
    "        \n",
    "        # LSTM layer\n",
    "        lstm_out, (h, c) = self.lstm1(embeds_out)\n",
    "        #print(lstm_out.size())\n",
    "        #print(h.size())\n",
    "        \n",
    "        # Fully connected layer\n",
    "        \n",
    "        # Use the output of the last cell\n",
    "        fc1_out = self.fc1(h)\n",
    "        fc1_out = self.relu1(fc1_out)\n",
    "        #print(fc1_out.size())\n",
    "        \n",
    "        # Output layer\n",
    "        y = self.out_act(self.fc2(fc1_out))\n",
    "        #print(y.size())\n",
    "        \n",
    "        # Squeeze to remove extra dimensions of size 1\n",
    "        return torch.squeeze(y)\n",
    "    \n"
   ]
  },
  {
   "cell_type": "code",
   "execution_count": 16,
   "metadata": {},
   "outputs": [],
   "source": [
    "def train_model(data_set, model, criterion, train_loader, validation_loader, optimizer, epochs=100):\n",
    "    model.train()\n",
    "    loss_accuracy = {'training_loss':[], 'validation_accuracy':[], 'validation_precision':[], 'validation_recall':[]}\n",
    "    \n",
    "    for epoch in range(epochs):\n",
    "        #clear_output(wait=True)\n",
    "        print(\"Epoch {} / {}\\n=============\".format(epoch+1, epochs))\n",
    "            \n",
    "\n",
    "        \n",
    "        train_correct = 0\n",
    "        for x, y in train_loader:\n",
    "            optimizer.zero_grad()\n",
    "            ## Forward pass\n",
    "            yhat = model(x)\n",
    "            ## Compute loss\n",
    "            loss = criterion(yhat, y)\n",
    "            ## Compute gradient in backward pass\n",
    "            loss.backward()\n",
    "            ## Update weights\n",
    "            optimizer.step()\n",
    "            \n",
    "            yhat = np.where(yhat.detach().numpy() > 0.5, 1, 0)\n",
    "            train_correct += (yhat == y.numpy()).sum()\n",
    "            \n",
    "            loss_accuracy['training_loss'].append(loss.item())\n",
    "         \n",
    "        ## Compute validation accuracy\n",
    "        model.eval()\n",
    "        correct = 0\n",
    "        for x, y in validation_loader:\n",
    "            yhat = net(x)           \n",
    "            yhat = np.where(yhat.detach().numpy() > 0.5, 1, 0)\n",
    "            correct = (yhat == y.detach().numpy()).sum()                        \n",
    "            accuracy = 100 * (correct / validation_loader.batch_size)\n",
    "            \n",
    "        loss_accuracy['validation_accuracy'].append(accuracy)\n",
    "        \n",
    "        ## Print training loss and accuracy, and validation accuracy\n",
    "        train_acc = 100 * train_correct / len(train_loader.dataset)\n",
    "        print(\"Training loss: {} | Training accuracy: {:.2f}%\\nValidation accuracy: {:.2f}%\".format(loss.item(), train_acc, accuracy))\n",
    "        \n",
    "        model.train()\n",
    "        \n",
    "        ## Add precision and recall\n",
    "        \n",
    "    print(\"Training complete!\")\n",
    "                \n",
    "    return loss_accuracy"
   ]
  },
  {
   "cell_type": "code",
   "execution_count": 17,
   "metadata": {},
   "outputs": [
    {
     "name": "stdout",
     "output_type": "stream",
     "text": [
      "Epoch 1 / 100\n",
      "=============\n",
      "Training loss: 0.47272753715515137 | Training accuracy: 93.57%\n",
      "Validation accuracy: 93.81%\n",
      "Epoch 2 / 100\n",
      "=============\n",
      "Training loss: 0.23705779016017914 | Training accuracy: 93.86%\n",
      "Validation accuracy: 93.81%\n",
      "Epoch 3 / 100\n",
      "=============\n",
      "Training loss: 0.2136072963476181 | Training accuracy: 93.87%\n",
      "Validation accuracy: 93.83%\n",
      "Epoch 4 / 100\n",
      "=============\n",
      "Training loss: 0.15161320567131042 | Training accuracy: 94.00%\n",
      "Validation accuracy: 93.61%\n",
      "Epoch 5 / 100\n",
      "=============\n",
      "Training loss: 0.1396200805902481 | Training accuracy: 94.17%\n",
      "Validation accuracy: 94.02%\n",
      "Epoch 6 / 100\n",
      "=============\n",
      "Training loss: 0.1411789208650589 | Training accuracy: 94.65%\n",
      "Validation accuracy: 94.90%\n",
      "Epoch 7 / 100\n",
      "=============\n",
      "Training loss: 0.12669731676578522 | Training accuracy: 95.09%\n",
      "Validation accuracy: 94.87%\n",
      "Epoch 8 / 100\n",
      "=============\n",
      "Training loss: 0.10750877857208252 | Training accuracy: 95.22%\n",
      "Validation accuracy: 95.26%\n",
      "Epoch 9 / 100\n",
      "=============\n",
      "Training loss: 0.10933548212051392 | Training accuracy: 95.34%\n",
      "Validation accuracy: 95.07%\n",
      "Epoch 10 / 100\n",
      "=============\n",
      "Training loss: 0.11486776173114777 | Training accuracy: 95.43%\n",
      "Validation accuracy: 95.27%\n",
      "Epoch 11 / 100\n",
      "=============\n",
      "Training loss: 0.10771706700325012 | Training accuracy: 95.55%\n",
      "Validation accuracy: 95.31%\n",
      "Epoch 12 / 100\n",
      "=============\n",
      "Training loss: 0.1089460551738739 | Training accuracy: 95.59%\n",
      "Validation accuracy: 95.17%\n",
      "Epoch 13 / 100\n",
      "=============\n",
      "Training loss: 0.11505354195833206 | Training accuracy: 95.65%\n",
      "Validation accuracy: 95.29%\n",
      "Epoch 14 / 100\n",
      "=============\n",
      "Training loss: 0.08938600867986679 | Training accuracy: 95.69%\n",
      "Validation accuracy: 95.42%\n",
      "Epoch 15 / 100\n",
      "=============\n",
      "Training loss: 0.09830617159605026 | Training accuracy: 95.83%\n",
      "Validation accuracy: 95.33%\n",
      "Epoch 16 / 100\n",
      "=============\n",
      "Training loss: 0.11059357970952988 | Training accuracy: 95.90%\n",
      "Validation accuracy: 95.34%\n",
      "Epoch 17 / 100\n",
      "=============\n",
      "Training loss: 0.1024891808629036 | Training accuracy: 95.93%\n",
      "Validation accuracy: 95.40%\n",
      "Epoch 18 / 100\n",
      "=============\n",
      "Training loss: 0.0910383090376854 | Training accuracy: 96.09%\n",
      "Validation accuracy: 95.47%\n",
      "Epoch 19 / 100\n",
      "=============\n",
      "Training loss: 0.11404576152563095 | Training accuracy: 96.08%\n",
      "Validation accuracy: 95.31%\n",
      "Epoch 20 / 100\n",
      "=============\n",
      "Training loss: 0.1067524179816246 | Training accuracy: 96.10%\n",
      "Validation accuracy: 95.36%\n",
      "Epoch 21 / 100\n",
      "=============\n",
      "Training loss: 0.08738230913877487 | Training accuracy: 96.25%\n",
      "Validation accuracy: 95.42%\n",
      "Epoch 22 / 100\n",
      "=============\n",
      "Training loss: 0.10204718261957169 | Training accuracy: 96.31%\n",
      "Validation accuracy: 95.14%\n",
      "Epoch 23 / 100\n",
      "=============\n",
      "Training loss: 0.10295252501964569 | Training accuracy: 96.41%\n",
      "Validation accuracy: 95.48%\n",
      "Epoch 24 / 100\n",
      "=============\n",
      "Training loss: 0.10180095583200455 | Training accuracy: 96.45%\n",
      "Validation accuracy: 95.34%\n",
      "Epoch 25 / 100\n",
      "=============\n",
      "Training loss: 0.08443992584943771 | Training accuracy: 96.58%\n",
      "Validation accuracy: 95.36%\n",
      "Epoch 26 / 100\n",
      "=============\n",
      "Training loss: 0.09074283391237259 | Training accuracy: 96.72%\n",
      "Validation accuracy: 95.12%\n",
      "Epoch 27 / 100\n",
      "=============\n",
      "Training loss: 0.08516702055931091 | Training accuracy: 96.79%\n",
      "Validation accuracy: 95.33%\n",
      "Epoch 28 / 100\n",
      "=============\n",
      "Training loss: 0.0857265293598175 | Training accuracy: 96.76%\n",
      "Validation accuracy: 95.31%\n",
      "Epoch 29 / 100\n",
      "=============\n",
      "Training loss: 0.0783732458949089 | Training accuracy: 96.99%\n",
      "Validation accuracy: 95.10%\n",
      "Epoch 30 / 100\n",
      "=============\n",
      "Training loss: 0.06895525008440018 | Training accuracy: 97.07%\n",
      "Validation accuracy: 95.18%\n",
      "Epoch 31 / 100\n",
      "=============\n",
      "Training loss: 0.06284987181425095 | Training accuracy: 97.19%\n",
      "Validation accuracy: 95.20%\n",
      "Epoch 32 / 100\n",
      "=============\n",
      "Training loss: 0.06937769800424576 | Training accuracy: 97.29%\n",
      "Validation accuracy: 95.17%\n",
      "Epoch 33 / 100\n",
      "=============\n",
      "Training loss: 0.06437525898218155 | Training accuracy: 97.42%\n",
      "Validation accuracy: 95.19%\n",
      "Epoch 34 / 100\n",
      "=============\n",
      "Training loss: 0.058576323091983795 | Training accuracy: 97.51%\n",
      "Validation accuracy: 94.80%\n",
      "Epoch 35 / 100\n",
      "=============\n",
      "Training loss: 0.07243284583091736 | Training accuracy: 97.58%\n",
      "Validation accuracy: 94.22%\n",
      "Epoch 36 / 100\n",
      "=============\n",
      "Training loss: 0.05648788437247276 | Training accuracy: 97.65%\n",
      "Validation accuracy: 94.51%\n",
      "Epoch 37 / 100\n",
      "=============\n",
      "Training loss: 0.05815543979406357 | Training accuracy: 97.86%\n",
      "Validation accuracy: 94.75%\n",
      "Epoch 38 / 100\n",
      "=============\n",
      "Training loss: 0.06681198626756668 | Training accuracy: 97.98%\n",
      "Validation accuracy: 94.84%\n",
      "Epoch 39 / 100\n",
      "=============\n",
      "Training loss: 0.06771682947874069 | Training accuracy: 98.12%\n",
      "Validation accuracy: 94.01%\n",
      "Epoch 40 / 100\n",
      "=============\n",
      "Training loss: 0.060655683279037476 | Training accuracy: 97.75%\n",
      "Validation accuracy: 95.13%\n",
      "Epoch 41 / 100\n",
      "=============\n",
      "Training loss: 0.050145480781793594 | Training accuracy: 98.19%\n",
      "Validation accuracy: 94.79%\n",
      "Epoch 42 / 100\n",
      "=============\n",
      "Training loss: 0.054110266268253326 | Training accuracy: 98.33%\n",
      "Validation accuracy: 94.68%\n",
      "Epoch 43 / 100\n",
      "=============\n",
      "Training loss: 0.0464891754090786 | Training accuracy: 98.38%\n",
      "Validation accuracy: 94.89%\n",
      "Epoch 44 / 100\n",
      "=============\n",
      "Training loss: 0.052358634769916534 | Training accuracy: 98.24%\n",
      "Validation accuracy: 94.74%\n",
      "Epoch 45 / 100\n",
      "=============\n",
      "Training loss: 0.050967950373888016 | Training accuracy: 98.31%\n",
      "Validation accuracy: 93.98%\n",
      "Epoch 46 / 100\n",
      "=============\n",
      "Training loss: 0.04470997303724289 | Training accuracy: 98.47%\n",
      "Validation accuracy: 94.88%\n",
      "Epoch 47 / 100\n",
      "=============\n",
      "Training loss: 0.05176093056797981 | Training accuracy: 98.38%\n",
      "Validation accuracy: 94.75%\n",
      "Epoch 48 / 100\n",
      "=============\n",
      "Training loss: 0.05088251084089279 | Training accuracy: 98.41%\n",
      "Validation accuracy: 94.80%\n",
      "Epoch 49 / 100\n",
      "=============\n",
      "Training loss: 0.04410179331898689 | Training accuracy: 98.57%\n",
      "Validation accuracy: 94.41%\n",
      "Epoch 50 / 100\n",
      "=============\n",
      "Training loss: 0.04273153841495514 | Training accuracy: 98.77%\n",
      "Validation accuracy: 94.27%\n",
      "Epoch 51 / 100\n",
      "=============\n",
      "Training loss: 0.06419350951910019 | Training accuracy: 98.75%\n",
      "Validation accuracy: 93.48%\n",
      "Epoch 52 / 100\n",
      "=============\n",
      "Training loss: 0.0366298146545887 | Training accuracy: 98.62%\n",
      "Validation accuracy: 94.52%\n",
      "Epoch 53 / 100\n",
      "=============\n",
      "Training loss: 0.04002094641327858 | Training accuracy: 98.89%\n",
      "Validation accuracy: 94.80%\n",
      "Epoch 54 / 100\n",
      "=============\n",
      "Training loss: 0.05532437190413475 | Training accuracy: 98.85%\n",
      "Validation accuracy: 93.90%\n",
      "Epoch 55 / 100\n",
      "=============\n",
      "Training loss: 0.04380544647574425 | Training accuracy: 98.69%\n",
      "Validation accuracy: 94.51%\n",
      "Epoch 56 / 100\n",
      "=============\n",
      "Training loss: 0.027412280440330505 | Training accuracy: 98.95%\n",
      "Validation accuracy: 94.58%\n",
      "Epoch 57 / 100\n",
      "=============\n",
      "Training loss: 0.027240868657827377 | Training accuracy: 98.98%\n",
      "Validation accuracy: 94.56%\n",
      "Epoch 58 / 100\n",
      "=============\n",
      "Training loss: 0.028645452111959457 | Training accuracy: 99.04%\n",
      "Validation accuracy: 94.73%\n",
      "Epoch 59 / 100\n",
      "=============\n",
      "Training loss: 0.03592006489634514 | Training accuracy: 99.08%\n",
      "Validation accuracy: 94.67%\n",
      "Epoch 60 / 100\n",
      "=============\n",
      "Training loss: 0.030472183600068092 | Training accuracy: 98.96%\n",
      "Validation accuracy: 94.75%\n",
      "Epoch 61 / 100\n",
      "=============\n",
      "Training loss: 0.04307311773300171 | Training accuracy: 98.81%\n",
      "Validation accuracy: 94.72%\n",
      "Epoch 62 / 100\n",
      "=============\n",
      "Training loss: 0.03492361679673195 | Training accuracy: 99.02%\n",
      "Validation accuracy: 93.88%\n",
      "Epoch 63 / 100\n",
      "=============\n",
      "Training loss: 0.02747463993728161 | Training accuracy: 98.97%\n",
      "Validation accuracy: 94.58%\n",
      "Epoch 64 / 100\n",
      "=============\n",
      "Training loss: 0.03174661844968796 | Training accuracy: 99.17%\n",
      "Validation accuracy: 93.39%\n",
      "Epoch 65 / 100\n",
      "=============\n",
      "Training loss: 0.033805377781391144 | Training accuracy: 99.06%\n",
      "Validation accuracy: 94.50%\n",
      "Epoch 66 / 100\n",
      "=============\n",
      "Training loss: 0.04446351155638695 | Training accuracy: 99.12%\n",
      "Validation accuracy: 94.20%\n",
      "Epoch 67 / 100\n",
      "=============\n",
      "Training loss: 0.043714649975299835 | Training accuracy: 98.99%\n",
      "Validation accuracy: 94.73%\n",
      "Epoch 68 / 100\n",
      "=============\n",
      "Training loss: 0.03379031643271446 | Training accuracy: 99.19%\n",
      "Validation accuracy: 94.47%\n",
      "Epoch 69 / 100\n",
      "=============\n",
      "Training loss: 0.017598871141672134 | Training accuracy: 99.24%\n",
      "Validation accuracy: 94.67%\n",
      "Epoch 70 / 100\n",
      "=============\n"
     ]
    },
    {
     "name": "stdout",
     "output_type": "stream",
     "text": [
      "Training loss: 0.026924535632133484 | Training accuracy: 99.23%\n",
      "Validation accuracy: 94.74%\n",
      "Epoch 71 / 100\n",
      "=============\n",
      "Training loss: 0.02968677133321762 | Training accuracy: 99.30%\n",
      "Validation accuracy: 94.47%\n",
      "Epoch 72 / 100\n",
      "=============\n",
      "Training loss: 0.028460219502449036 | Training accuracy: 99.32%\n",
      "Validation accuracy: 94.30%\n",
      "Epoch 73 / 100\n",
      "=============\n",
      "Training loss: 0.043346818536520004 | Training accuracy: 98.58%\n",
      "Validation accuracy: 93.88%\n",
      "Epoch 74 / 100\n",
      "=============\n",
      "Training loss: 0.034438539296388626 | Training accuracy: 99.13%\n",
      "Validation accuracy: 94.56%\n",
      "Epoch 75 / 100\n",
      "=============\n",
      "Training loss: 0.0350656658411026 | Training accuracy: 99.33%\n",
      "Validation accuracy: 94.60%\n",
      "Epoch 76 / 100\n",
      "=============\n",
      "Training loss: 0.037005361169576645 | Training accuracy: 99.38%\n",
      "Validation accuracy: 94.56%\n",
      "Epoch 77 / 100\n",
      "=============\n",
      "Training loss: 0.023565564304590225 | Training accuracy: 99.34%\n",
      "Validation accuracy: 94.59%\n",
      "Epoch 78 / 100\n",
      "=============\n",
      "Training loss: 0.033612243831157684 | Training accuracy: 99.35%\n",
      "Validation accuracy: 94.71%\n",
      "Epoch 79 / 100\n",
      "=============\n",
      "Training loss: 0.035188134759664536 | Training accuracy: 99.33%\n",
      "Validation accuracy: 94.49%\n",
      "Epoch 80 / 100\n",
      "=============\n",
      "Training loss: 0.029200652614235878 | Training accuracy: 99.29%\n",
      "Validation accuracy: 94.33%\n",
      "Epoch 81 / 100\n",
      "=============\n",
      "Training loss: 0.03612072765827179 | Training accuracy: 99.18%\n",
      "Validation accuracy: 94.12%\n",
      "Epoch 82 / 100\n",
      "=============\n",
      "Training loss: 0.017489133402705193 | Training accuracy: 99.12%\n",
      "Validation accuracy: 94.64%\n",
      "Epoch 83 / 100\n",
      "=============\n",
      "Training loss: 0.027167104184627533 | Training accuracy: 99.37%\n",
      "Validation accuracy: 94.44%\n",
      "Epoch 84 / 100\n",
      "=============\n",
      "Training loss: 0.012869073078036308 | Training accuracy: 99.34%\n",
      "Validation accuracy: 94.30%\n",
      "Epoch 85 / 100\n",
      "=============\n",
      "Training loss: 0.02974364534020424 | Training accuracy: 99.43%\n",
      "Validation accuracy: 94.57%\n",
      "Epoch 86 / 100\n",
      "=============\n",
      "Training loss: 0.032214872539043427 | Training accuracy: 99.46%\n",
      "Validation accuracy: 94.59%\n",
      "Epoch 87 / 100\n",
      "=============\n",
      "Training loss: 0.04760347306728363 | Training accuracy: 99.35%\n",
      "Validation accuracy: 94.70%\n",
      "Epoch 88 / 100\n",
      "=============\n",
      "Training loss: 0.03066141903400421 | Training accuracy: 99.14%\n",
      "Validation accuracy: 94.36%\n",
      "Epoch 89 / 100\n",
      "=============\n",
      "Training loss: 0.034907519817352295 | Training accuracy: 99.33%\n",
      "Validation accuracy: 94.35%\n",
      "Epoch 90 / 100\n",
      "=============\n",
      "Training loss: 0.020671047270298004 | Training accuracy: 99.45%\n",
      "Validation accuracy: 94.54%\n",
      "Epoch 91 / 100\n",
      "=============\n",
      "Training loss: 0.025412529706954956 | Training accuracy: 99.48%\n",
      "Validation accuracy: 94.35%\n",
      "Epoch 92 / 100\n",
      "=============\n",
      "Training loss: 0.01416690368205309 | Training accuracy: 99.47%\n",
      "Validation accuracy: 94.56%\n",
      "Epoch 93 / 100\n",
      "=============\n",
      "Training loss: 0.022476764395833015 | Training accuracy: 99.43%\n",
      "Validation accuracy: 94.60%\n",
      "Epoch 94 / 100\n",
      "=============\n",
      "Training loss: 0.017885763198137283 | Training accuracy: 99.42%\n",
      "Validation accuracy: 94.47%\n",
      "Epoch 95 / 100\n",
      "=============\n",
      "Training loss: 0.024745168164372444 | Training accuracy: 99.42%\n",
      "Validation accuracy: 94.60%\n",
      "Epoch 96 / 100\n",
      "=============\n",
      "Training loss: 0.01764482632279396 | Training accuracy: 99.37%\n",
      "Validation accuracy: 94.21%\n",
      "Epoch 97 / 100\n",
      "=============\n",
      "Training loss: 0.01898079551756382 | Training accuracy: 98.99%\n",
      "Validation accuracy: 94.06%\n",
      "Epoch 98 / 100\n",
      "=============\n",
      "Training loss: 0.022559862583875656 | Training accuracy: 99.37%\n",
      "Validation accuracy: 94.80%\n",
      "Epoch 99 / 100\n",
      "=============\n",
      "Training loss: 0.013041680678725243 | Training accuracy: 99.46%\n",
      "Validation accuracy: 94.61%\n",
      "Epoch 100 / 100\n",
      "=============\n",
      "Training loss: 0.013846496120095253 | Training accuracy: 99.51%\n",
      "Validation accuracy: 94.76%\n",
      "Training complete!\n"
     ]
    },
    {
     "data": {
      "text/plain": [
       "Text(0, 0.5, 'Accuracy [%]')"
      ]
     },
     "execution_count": 17,
     "metadata": {},
     "output_type": "execute_result"
    },
    {
     "data": {
      "image/png": "[encoded data removed]",
      "text/plain": [
       "<Figure size 432x288 with 1 Axes>"
      ]
     },
     "metadata": {
      "needs_background": "light"
     },
     "output_type": "display_data"
    },
    {
     "data": {
      "image/png": "[encoded data removed]",
      "text/plain": [
       "<Figure size 432x288 with 1 Axes>"
      ]
     },
     "metadata": {
      "needs_background": "light"
     },
     "output_type": "display_data"
    }
   ],
   "source": [
    "epochs = 100\n",
    "learning_rate = 0.0005\n",
    "\n",
    "## Network dimensions\n",
    "D_in = embeddings_dim\n",
    "n_hidden_1 = 64\n",
    "n_hidden_2 = 32\n",
    "D_out = 1\n",
    "batch_size = 2500\n",
    "\n",
    "## Load data\n",
    "train_loader = torch.utils.data.DataLoader(dataset=training_dataset, batch_size=batch_size, shuffle=True)\n",
    "validation_loader = torch.utils.data.DataLoader(dataset=validation_dataset, batch_size=len(validation_dataset), shuffle=False)\n",
    "\n",
    "## Initialize model\n",
    "net = Net(D_in, max_length, n_hidden_1,n_hidden_2, D_out)\n",
    "net.apply(weights_init)\n",
    "\n",
    "\n",
    "optimizer = torch.optim.Adam(net.parameters(), lr=learning_rate)\n",
    "criterion = nn.BCELoss()\n",
    "\n",
    "## Train the model\n",
    "loss_accuracy = train_model(training_dataset, net, criterion, train_loader, validation_loader, optimizer, epochs=epochs)\n",
    "\n",
    "\n",
    "## Plots\n",
    "fig = plt.figure(1)\n",
    "plt.plot(loss_accuracy['training_loss'], color=\"red\")\n",
    "plt.title(\"Training Loss\")\n",
    "plt.xlabel(\"Iteration\")\n",
    "plt.ylabel(\"Loss [-]\")\n",
    "\n",
    "fig = plt.figure(2)\n",
    "plt.plot(loss_accuracy['validation_accuracy'], color=\"blue\")\n",
    "plt.title(\"Validation Accuracy\")\n",
    "plt.xlabel(\"Epoch\")\n",
    "plt.ylabel(\"Accuracy [%]\")"
   ]
  },
  {
   "cell_type": "code",
   "execution_count": 18,
   "metadata": {},
   "outputs": [],
   "source": [
    "def Plot_Confusion_Matrix(con_mat):\n",
    "    \n",
    "    plt.title(\"Confusion Matrix\", fontsize=26)\n",
    "    sns.set(font_scale=2.5)\n",
    "    ax = sns.heatmap(con_mat, annot=True, fmt='g', annot_kws={\"size\":16}, xticklabels=[\"Negative\", \"Troll\"], yticklabels=[\"Negative\", \"Troll\"], \n",
    "               cmap=\"YlGnBu\")\n",
    "    ax.invert_yaxis()\n",
    "    ax.invert_xaxis()\n",
    "    plt.xlabel(\"Prediction\", fontsize=16)\n",
    "    plt.ylabel(\"True Label\", fontsize=16)\n",
    "    \n",
    "    b, t = plt.ylim() # discover the values for bottom and top\n",
    "    ax.set_ylim(b-0.5, t+0.5)"
   ]
  },
  {
   "cell_type": "code",
   "execution_count": 19,
   "metadata": {},
   "outputs": [
    {
     "name": "stdout",
     "output_type": "stream",
     "text": [
      "The validation accuracy is 94.76%\n"
     ]
    }
   ],
   "source": [
    "net.eval()\n",
    "\n",
    "x = Variable(torch.LongTensor(np.array(validation_sequences_padded)))\n",
    "\n",
    "pred = net(x)\n",
    "predicted_labels = np.where(pred > 0.5, 1, 0)\n",
    "testing_labels = np.array(validation['target'])\n",
    "accuracy = accuracy_score(testing_labels, predicted_labels)\n",
    "\n",
    "print('The validation accuracy is {:.2f}%'.format(accuracy*100))"
   ]
  },
  {
   "cell_type": "code",
   "execution_count": 20,
   "metadata": {},
   "outputs": [
    {
     "name": "stdout",
     "output_type": "stream",
     "text": [
      "[[9145  236]\n",
      " [ 288  331]]\n"
     ]
    },
    {
     "data": {
      "image/png": "[encoded data removed]",
      "text/plain": [
       "<Figure size 432x288 with 2 Axes>"
      ]
     },
     "metadata": {
      "needs_background": "light"
     },
     "output_type": "display_data"
    }
   ],
   "source": [
    "con_mat = confusion_matrix(testing_labels, predicted_labels)\n",
    "#con_mat = confusion_matrix([0, 1, 1, 0], [1, 1, 1, 0])\n",
    "Plot_Confusion_Matrix(con_mat)\n",
    "print(con_mat)"
   ]
  },
  {
   "cell_type": "code",
   "execution_count": null,
   "metadata": {},
   "outputs": [],
   "source": []
  },
  {
   "cell_type": "code",
   "execution_count": null,
   "metadata": {},
   "outputs": [],
   "source": []
  }
 ],
 "metadata": {
  "kernelspec": {
   "display_name": "Python 3",
   "language": "python",
   "name": "python3"
  },
  "language_info": {
   "codemirror_mode": {
    "name": "ipython",
    "version": 3
   },
   "file_extension": ".py",
   "mimetype": "text/x-python",
   "name": "python",
   "nbconvert_exporter": "python",
   "pygments_lexer": "ipython3",
   "version": "3.7.4"
  }
 },
 "nbformat": 4,
 "nbformat_minor": 2
}
