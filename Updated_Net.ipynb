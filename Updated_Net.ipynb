{
 "cells": [
  {
   "cell_type": "markdown",
   "metadata": {},
   "source": [
    "# Quora Questions\n",
    "\n",
    "The goal of this project is to identify insincere questions in a dataset of around 1 300 000 questions from Quora. The questions are about various topics and vary in length.\n"
   ]
  },
  {
   "cell_type": "code",
   "execution_count": 2,
   "metadata": {},
   "outputs": [],
   "source": [
    "## Imports\n",
    "import torch\n",
    "import torch.nn as nn\n",
    "import torch.nn.functional as F\n",
    "\n",
    "import pandas as pd\n",
    "import numpy as np\n",
    "import pickle\n",
    "import string\n",
    "import random\n",
    "\n",
    "from tensorflow.keras.preprocessing.text import Tokenizer\n",
    "import tensorflow.keras.preprocessing.sequence as sq\n",
    "\n",
    "from sklearn.model_selection import train_test_split\n",
    "\n",
    "from sklearn.metrics import accuracy_score\n",
    "from sklearn.metrics import precision_score\n",
    "from sklearn.metrics import recall_score\n",
    "from sklearn.metrics import f1_score\n",
    "from sklearn.metrics import confusion_matrix\n",
    "import seaborn as sn\n",
    "\n",
    "import matplotlib.pyplot as plt\n",
    "%matplotlib inline\n",
    "plt.rcParams['figure.figsize'] = 20, 10\n",
    "plt.rcParams.update({'font.size': 25})\n",
    "\n",
    "from IPython.display import clear_output"
   ]
  },
  {
   "cell_type": "markdown",
   "metadata": {},
   "source": [
    "## 1. Data exploration\n",
    "\n",
    "There are over 1 300 000 sentences in the dataset. Let's import the labelled data (training)."
   ]
  },
  {
   "cell_type": "code",
   "execution_count": 3,
   "metadata": {},
   "outputs": [],
   "source": [
    "# Load data and embedding\n",
    "path_in = './data/'\n",
    "\n",
    "train = pd.read_csv(path_in + 'train.csv')\n",
    "train = train[0:400000]"
   ]
  },
  {
   "cell_type": "markdown",
   "metadata": {},
   "source": [
    "### 1.1 Example sentences\n",
    "\n",
    "The sentences are in `question_text` and the label is in `target`, where `1` is a positive (insincere) and `0`a negative. Here is an example sentence along with the label:"
   ]
  },
  {
   "cell_type": "code",
   "execution_count": 4,
   "metadata": {},
   "outputs": [
    {
     "name": "stdout",
     "output_type": "stream",
     "text": [
      "Example sentence: \"Is there such a thing as dressing moderately, and if so, how is that different than dressing modestly?\"\n",
      "Label: 0\n"
     ]
    }
   ],
   "source": [
    "print(\"Example sentence: \\\"{}\\\"\\nLabel: {}\".format(train['question_text'][8], train['target'][8]))"
   ]
  },
  {
   "cell_type": "markdown",
   "metadata": {},
   "source": [
    "Let's see how many positives and negatives we have in the data:"
   ]
  },
  {
   "cell_type": "code",
   "execution_count": 5,
   "metadata": {},
   "outputs": [
    {
     "name": "stdout",
     "output_type": "stream",
     "text": [
      "Ratio of positives to total: 6.20%\n"
     ]
    }
   ],
   "source": [
    "print(\"Ratio of positives to total: {:.2f}%\".format(len(train.loc[train['target'] == 1])*100 / len(train)))"
   ]
  },
  {
   "cell_type": "markdown",
   "metadata": {},
   "source": [
    "That means our model can achieve an accuracy of around 94% purley by guessing. This shows that the accuracy score is not a good metric to quanitify a model when having strongly unbalanced data and is known as the *class imbalance problem* [2]. "
   ]
  },
  {
   "cell_type": "markdown",
   "metadata": {},
   "source": [
    "### 1.2 Sentence structures and ratio\n",
    "\n",
    "To get an idea about the data we are dealing with, we see how many characters are in sentence. Characters include both words and punctuation."
   ]
  },
  {
   "cell_type": "code",
   "execution_count": null,
   "metadata": {},
   "outputs": [],
   "source": [
    "def getNumberofWordsFound():\n",
    "    ## Generate random\n",
    "    population = list(np.arange(0, len(train)))\n",
    "    population = random.sample(population, 100)\n",
    "    \n",
    "    number_of_words = []\n",
    "    \n",
    "    for sample in population:\n",
    "        sentence = train['question_text'].iloc[int(sample)]\n",
    "\n",
    "        ## Convert to lowercase and split sentence\n",
    "        sentence = sentence.lower()\n",
    "\n",
    "        ## Sepearate punctuation\n",
    "        chs = string.punctuation\n",
    "        for ch in chs:\n",
    "            idx = sentence.find(ch)\n",
    "\n",
    "            if idx != -1:\n",
    "                sentence = sentence.replace(ch, \" \" + ch)\n",
    "\n",
    "        sentence = sentence.split(' ') \n",
    "        number_of_words.append(len(sentence))\n",
    "        \n",
    "    return number_of_words\n",
    "\n",
    "\n",
    "num_of_words = getNumberofWordsFound()"
   ]
  },
  {
   "cell_type": "code",
   "execution_count": null,
   "metadata": {},
   "outputs": [],
   "source": [
    "plt.hist(num_of_words, range=(0, 30), color=\"green\")\n",
    "plt.title(\"Number of characters per sentence\")\n",
    "plt.xlabel(\"# characters\")\n",
    "plt.ylabel(\"# sentences\")\n",
    "plt.show()\n",
    "plt.show()"
   ]
  },
  {
   "cell_type": "markdown",
   "metadata": {},
   "source": [
    "**Question:**\n",
    "\n",
    "According to the Central Limit Theorem, samples from a population of any distribution are normally distributed, given that the samples are independent. Since the distribution above isn't normal, it follows that the length of sentences is not independent. What is the explanation?"
   ]
  },
  {
   "cell_type": "markdown",
   "metadata": {},
   "source": [
    "## 2. Data Preparation\n",
    "We cannot just feed sentences to our network. Instead, we perform the following steps:\n",
    "\n",
    "* Generate a vocabulary with all words/characters in the data\n",
    "\n",
    "* Tokenize this vocabulary\n",
    "\n",
    "* Get union of vocabulary and embedding\n",
    "\n",
    "* Use tokens to express individual sentences as vectors\n",
    "\n",
    "* Pad/truncate the vectors so that all have the same length\n",
    "\n",
    "This steps can be done with libraries like in *Keras*. For illustrative purposes we first implement the steps fom scratch. Afterwards we use the *Keras* library to achieve the goal more efficiently."
   ]
  },
  {
   "cell_type": "markdown",
   "metadata": {},
   "source": [
    "### 2.1 The hard way\n",
    "\n",
    "The words are converted to lowercase and punctuation is isolated."
   ]
  },
  {
   "cell_type": "code",
   "execution_count": null,
   "metadata": {},
   "outputs": [],
   "source": [
    "def make_vocabulary(data):\n",
    "    '''\n",
    "    Input:\n",
    "    data: series of sentences for which to build the vocabulary\n",
    "    \n",
    "    Output:\n",
    "    Dictionary of words and their frequency\n",
    "    '''\n",
    "    vocab = {}\n",
    "    for sentence_number in range(len(data)):\n",
    "        clear_output(wait=True)\n",
    "        print(\"Processing sentence {} / {}\".format(sentence_number+1 ,len(data)))\n",
    "        sentence = data[sentence_number]\n",
    "                \n",
    "        ## Sepearate punctuation\n",
    "        chs = string.punctuation\n",
    "        \n",
    "        for ch in chs:\n",
    "            idx = sentence.find(ch)\n",
    "\n",
    "            if idx != -1:\n",
    "                sentence = sentence.replace(ch, \" \" + ch)\n",
    "        \n",
    "        ## Split into words\n",
    "        sentence = sentence.split(' ')   \n",
    "        \n",
    "        for word in sentence:\n",
    "            word = word.lower()\n",
    "            try:\n",
    "                vocab[word] += 1\n",
    "            except KeyError:\n",
    "                    vocab[word] = 1\n",
    "        \n",
    "    print(\"Done\")\n",
    "        \n",
    "    return vocab\n",
    "\n",
    "vocab = make_vocabulary(train['question_text'][0:5000])\n",
    "\n",
    "# Save the vocabulary\n",
    "with open('./data/Vocabulary.p', 'wb') as handle:\n",
    "    pickle.dump(vocab, handle, protocol=pickle.HIGHEST_PROTOCOL)"
   ]
  },
  {
   "cell_type": "code",
   "execution_count": null,
   "metadata": {},
   "outputs": [],
   "source": [
    "vocab = pickle.load(open(\"./data/Vocabulary.p\", \"rb\") )"
   ]
  },
  {
   "cell_type": "markdown",
   "metadata": {},
   "source": [
    "### Union of vocabulary and embedding\n",
    "\n",
    "Check which words from the vocabulary can be found in the embedding. We also provide statistics."
   ]
  },
  {
   "cell_type": "code",
   "execution_count": null,
   "metadata": {},
   "outputs": [],
   "source": [
    "def getUnion(vocab, embedding):\n",
    "    '''\n",
    "    Input: vocab and embedding as dictionary\n",
    "    Output: union as list with words\n",
    "    '''\n",
    "    vocab = list(vocab.keys())\n",
    "    embedding = list(embedding.keys())\n",
    "    \n",
    "    union = []\n",
    "    i = 0\n",
    "    for word in embedding:\n",
    "        clear_output(wait=True)\n",
    "        print(\"Processing word {} / {}\".format(i ,len(embedding)))\n",
    "        \n",
    "        if word in embedding:\n",
    "            union.append(word)\n",
    "        i += 1\n",
    "    \n",
    "    return union\n",
    "\n",
    "union = getUnion(vocab, embedding)\n",
    "\n",
    "# Save the union\n",
    "with open('./data/Union.p', 'wb') as handle:\n",
    "    pickle.dump(union, handle, protocol=pickle.HIGHEST_PROTOCOL)"
   ]
  },
  {
   "cell_type": "code",
   "execution_count": null,
   "metadata": {},
   "outputs": [],
   "source": [
    "union = pickle.load(open(\"Union.p\", \"rb\") )\n",
    "\n",
    "print(\"Percent of words from vocabulary in embedding: {:.2f} \".format(len(union) / len(list(embedding.keys()))))"
   ]
  },
  {
   "cell_type": "markdown",
   "metadata": {},
   "source": [
    "### Tokenization\n",
    "\n",
    "For the net to process the input sentences the sentences have to be tokenized. That's why we create a weight matrix now. It has the dimension `[sequence len, sample, dimension]`, where the sequence length is 45 and the dimension is 300 (given from the embedding).\n",
    "\n",
    "Consequently, a sentence from the dataset is represented as a tuple of 45 vectors with dimension 300."
   ]
  },
  {
   "cell_type": "code",
   "execution_count": null,
   "metadata": {},
   "outputs": [],
   "source": [
    "seq_len = 45\n",
    "dimension = 50\n",
    "number_samples = 1000\n",
    "\n",
    "\n",
    "## Initialize matrix\n",
    "weights = np.zeros((number_samples, seq_len, dimension))\n",
    "labels = []\n",
    "\n",
    "## Extract weight matrix for each sample\n",
    "for sample in range(number_samples):\n",
    "    sentence = train['question_text'].iloc[sample]\n",
    "    label = train['target'].iloc[sample]\n",
    "    labels.append(label)\n",
    "    \n",
    "    \n",
    "    ## Convert to lowercase and split sentence\n",
    "    sentence = sentence.lower()\n",
    "\n",
    "    ## Sepearate punctuation\n",
    "    chs = string.punctuation\n",
    "    for ch in chs:\n",
    "        idx = sentence.find(ch)\n",
    "        \n",
    "        if idx != -1:\n",
    "            sentence = sentence.replace(ch, \" \" + ch)\n",
    "            \n",
    "    sentence = sentence.split(' ')   \n",
    "    \n",
    "     ## Truncate\n",
    "    sentence = sentence[0:seq_len]\n",
    "\n",
    "    ## Find weights\n",
    "    matrix_len = len(sentence)\n",
    "    weights_matrix = np.zeros((matrix_len, dimension))\n",
    "    words_found = 0\n",
    "\n",
    "    for i, word in enumerate(sentence):\n",
    "        try: \n",
    "            weights_matrix[i] = embedding[word]\n",
    "            words_found += 1\n",
    "        except KeyError:\n",
    "            weights_matrix[i] = np.random.normal(scale=0.6, size=(dimension, ))    \n",
    "    \n",
    "    \n",
    "    ## Pad with zeros to 45\n",
    "    z = np.zeros((1, dimension))\n",
    "    \n",
    "    for i in range(seq_len-matrix_len):      \n",
    "        weights_matrix = np.concatenate((weights_matrix, z), axis=0)\n",
    "     \n",
    "    weights[sample, :, :] = weights_matrix\n",
    "\n",
    "\n",
    "print(\"Dimension of weight matrix: {}\".format(weights.shape))    \n",
    "print(\"Ratio positives/total: {}\".format(labels.count(1)/number_samples))\n",
    "\n",
    "\n",
    "## Convert to torch tensors\n",
    "weights = torch.tensor(weights)\n",
    "weights = weights.float()  \n",
    "\n",
    "labels = torch.tensor(labels).float()"
   ]
  },
  {
   "cell_type": "code",
   "execution_count": null,
   "metadata": {},
   "outputs": [],
   "source": []
  },
  {
   "cell_type": "code",
   "execution_count": null,
   "metadata": {},
   "outputs": [],
   "source": []
  },
  {
   "cell_type": "markdown",
   "metadata": {},
   "source": [
    "### 2.2 The easy way - Keras tokenizer\n",
    "\n",
    "We now split the dataset into train, validation and testing. We also utilize the PyTorch Datalaoder functions to simplify batching."
   ]
  },
  {
   "cell_type": "code",
   "execution_count": 6,
   "metadata": {},
   "outputs": [],
   "source": [
    "# Build the tokenizer dictionary in the tokenizer class\n",
    "tokenizer = Tokenizer(filters='!\"#$%&()*+,-./:;<=>?@[\\\\]^_`{|}~\\t\\n')\n",
    "tokenizer.fit_on_texts(train['question_text'])\n",
    "\n",
    "# Split train set into train and validation sets\n",
    "train, validation = train_test_split(train, test_size=0.2, shuffle = True)\n",
    "train.reset_index(inplace=True)\n",
    "validation.reset_index(inplace=True)\n",
    "\n",
    "# Tokenize the questions\n",
    "train_sequences = tokenizer.texts_to_sequences(train['question_text'])\n",
    "validation_sequences = tokenizer.texts_to_sequences(validation['question_text'])\n",
    "\n",
    "# Save the tokenizer dictionary and the number of words in it\n",
    "word_index = tokenizer.word_index\n",
    "vocab_size = len(word_index)"
   ]
  },
  {
   "cell_type": "markdown",
   "metadata": {},
   "source": [
    "First we tokenize all words in the data using the `Tokenizer` from the Keras library. Note that we filter out the characters given to the `filters` attribute.\n",
    "\n",
    "Next, we split the data into training and validation data.\n",
    "\n",
    "Finally, using the tokens defined in the first step, we can tokenize the indivdual sentences from the questions. That way, we get a vector for each sentence. Here, the length is the number of words, exlcuding the characters in the filter.\n",
    "\n",
    "**Output:**\n",
    "\n",
    "`word_index`Dictionary of word and assigned number (token)\n",
    "\n",
    "`vocab_size` Int number of words in vocabulary"
   ]
  },
  {
   "cell_type": "code",
   "execution_count": 7,
   "metadata": {},
   "outputs": [],
   "source": [
    "## Pad sequences with 0s so that each sequence is of the same length respresented by the max_length\n",
    "max_length = 50\n",
    "padding_type = 'pre'\n",
    "trunc_type = 'pre'\n",
    "\n",
    "train_sequences_padded = sq.pad_sequences(train_sequences, maxlen=max_length, padding=padding_type, truncating=trunc_type)\n",
    "validation_sequences_padded = sq.pad_sequences(validation_sequences, maxlen=max_length, padding=padding_type, truncating=trunc_type)"
   ]
  },
  {
   "cell_type": "code",
   "execution_count": 8,
   "metadata": {},
   "outputs": [],
   "source": [
    "## Convert data to tensors\n",
    "training_dataset = torch.utils.data.TensorDataset(torch.LongTensor(np.array(train_sequences_padded)), torch.FloatTensor(np.array(train['target'])))\n",
    "validation_dataset = torch.utils.data.TensorDataset(torch.LongTensor(np.array(validation_sequences_padded)), torch.FloatTensor(np.array(validation['target'])))"
   ]
  },
  {
   "cell_type": "markdown",
   "metadata": {},
   "source": [
    "In the dataset for training, we now have an array of length 50 with tokens for each sentence."
   ]
  },
  {
   "cell_type": "markdown",
   "metadata": {},
   "source": [
    "### 2.3 Embedding\n",
    "We use the GloVe 300 42B embedding. It was trained on 42 billion tokens of web data [1]. We want to get a tensor which includes the 300 dimensional weights for all words in our vocabulary. This `embedding_matrix` is used later by the embedding layer."
   ]
  },
  {
   "cell_type": "code",
   "execution_count": 9,
   "metadata": {},
   "outputs": [
    {
     "name": "stdout",
     "output_type": "stream",
     "text": [
      "Loading word embeddings...\n",
      "Finished loading word embeddings. 115534 words loaded.\n"
     ]
    }
   ],
   "source": [
    "def load_embedding(embedding_File, embedding_dim, vocab_size, word_index):\n",
    "    print('Loading word embeddings...')\n",
    "    embedding_index = {}\n",
    "    with open(embedding_File,'r', encoding = 'utf8') as f:\n",
    "        for line in f:\n",
    "            values = line.split();\n",
    "            word = ''.join(values[:-1*embedding_dim]);\n",
    "            coefs = np.asarray(values[-1*embedding_dim:], dtype='float32');\n",
    "            embedding_index[word] = coefs;\n",
    "\n",
    "    embedding_matrix = np.zeros((vocab_size+1, embedding_dim));\n",
    "    for word, i in word_index.items():\n",
    "        embedding_vector = embedding_index.get(word);\n",
    "        if embedding_vector is not None:\n",
    "            embedding_matrix[i] = embedding_vector;  \n",
    "            \n",
    "    print('Finished loading word embeddings. {:.0f} words loaded.'.format(len(embedding_matrix)))\n",
    "    return embedding_matrix\n",
    "\n",
    "## Load embedding\n",
    "embedding_dim = 300\n",
    "#embedding_File = './data/embeddings/glove.6B.50d.txt'\n",
    "embedding_File = './data/GloVe300d.txt'\n",
    "\n",
    "embedding_matrix = load_embedding(embedding_File, embedding_dim, vocab_size, word_index)\n",
    "weights = torch.FloatTensor(embedding_matrix)"
   ]
  },
  {
   "cell_type": "markdown",
   "metadata": {},
   "source": [
    "## 3. Prediction"
   ]
  },
  {
   "cell_type": "markdown",
   "metadata": {},
   "source": [
    "### 3.1 Net\n",
    "The net has an embedding layer which feeds into the LSTM layer. The LSTM is connected to a linear layer.\n",
    "\n",
    "For the LSTM layer we want a many-to-one architecture. That means we want to feed in the sequence (whole sentence) and get one output.\n",
    "\n",
    "The LSTM layer has the outputs `lstm_out, (h_n, c_n)`. To get the many-to-one output, you can either take the last element of the sequence `lstm_out`, or `h_n` which is the same. For more info see the documentation [https://pytorch.org/docs/stable/nn.html#lstm].\n",
    "\n",
    "We also use dropout to reduce overfitting and initialization layers."
   ]
  },
  {
   "cell_type": "code",
   "execution_count": 10,
   "metadata": {},
   "outputs": [],
   "source": [
    "class Net(nn.Module):\n",
    "    def __init__(self, seq_length, hidden_layer):\n",
    "        super(Net, self).__init__()\n",
    "        \n",
    "        ## Embedding layer\n",
    "        self.embd = nn.Embedding.from_pretrained(weights)\n",
    "        \n",
    "        ## LSTM\n",
    "        self.lstm = nn.LSTM(input_size=len(weights[0,:]), hidden_size=hidden_layer, batch_first=True)\n",
    "        \n",
    "        ## Linear layers\n",
    "        self.fc1 = nn.Linear(hidden_layer, hidden_layer)\n",
    "        self.dropout1 = nn.Dropout(p=0.4)\n",
    "        self.fc2 = nn.Linear(hidden_layer, 1)\n",
    "        self.dropout2 = nn.Dropout(p=0.0)\n",
    "        self.tanh = nn.Tanh()\n",
    "        self.out = nn.Sigmoid()\n",
    "        \n",
    "        self.initialize()\n",
    "        \n",
    "    def initialize(self):\n",
    "        nn.init.xavier_uniform_(self.fc1.weight.data)\n",
    "        self.fc1.bias.data.zero_()\n",
    "      \n",
    "\n",
    "    def forward(self, x):\n",
    "        embd_out = self.embd(x)       \n",
    "        lstm_out, (h_out, _) = self.lstm(embd_out)\n",
    "        x = self.tanh(self.dropout1(self.fc1(h_out)))\n",
    "        x = self.dropout2(self.fc2(x))\n",
    "        x = self.out(x)      \n",
    "        return x"
   ]
  },
  {
   "cell_type": "markdown",
   "metadata": {},
   "source": [
    "### 3.2 Train the net"
   ]
  },
  {
   "cell_type": "code",
   "execution_count": 13,
   "metadata": {},
   "outputs": [
    {
     "name": "stdout",
     "output_type": "stream",
     "text": [
      "Epoch 1 / 50\n",
      "Loss: 0.2375\n",
      "Training accuracy: 0.8996 | Validation accuracy: 0.9383\n",
      "Epoch 2 / 50\n",
      "Loss: 0.2370\n",
      "Training accuracy: 0.9378 | Validation accuracy: 0.9384\n",
      "Epoch 3 / 50\n",
      "Loss: 0.2336\n",
      "Training accuracy: 0.9378 | Validation accuracy: 0.9384\n",
      "Epoch 4 / 50\n",
      "Loss: 0.2224\n",
      "Training accuracy: 0.9378 | Validation accuracy: 0.9384\n",
      "Epoch 5 / 50\n",
      "Loss: 0.1945\n",
      "Training accuracy: 0.9378 | Validation accuracy: 0.9384\n",
      "Epoch 6 / 50\n",
      "Loss: 0.1586\n",
      "Training accuracy: 0.9393 | Validation accuracy: 0.9388\n",
      "Epoch 7 / 50\n",
      "Loss: 0.1429\n",
      "Training accuracy: 0.9429 | Validation accuracy: 0.9436\n",
      "Epoch 8 / 50\n",
      "Loss: 0.1278\n",
      "Training accuracy: 0.9465 | Validation accuracy: 0.9475\n",
      "Epoch 9 / 50\n",
      "Loss: 0.1298\n",
      "Training accuracy: 0.9487 | Validation accuracy: 0.9483\n",
      "Epoch 10 / 50\n",
      "Loss: 0.1337\n",
      "Training accuracy: 0.9498 | Validation accuracy: 0.9492\n",
      "Epoch 11 / 50\n",
      "Loss: 0.1266\n",
      "Training accuracy: 0.9506 | Validation accuracy: 0.9498\n",
      "Epoch 12 / 50\n",
      "Loss: 0.1313\n",
      "Training accuracy: 0.9514 | Validation accuracy: 0.9505\n",
      "Epoch 13 / 50\n",
      "Loss: 0.1232\n",
      "Training accuracy: 0.9520 | Validation accuracy: 0.9505\n",
      "Epoch 14 / 50\n",
      "Loss: 0.1236\n",
      "Training accuracy: 0.9531 | Validation accuracy: 0.9514\n",
      "Epoch 15 / 50\n",
      "Loss: 0.1181\n",
      "Training accuracy: 0.9534 | Validation accuracy: 0.9513\n",
      "Epoch 16 / 50\n",
      "Loss: 0.1212\n",
      "Training accuracy: 0.9539 | Validation accuracy: 0.9522\n",
      "Epoch 17 / 50\n",
      "Loss: 0.1098\n",
      "Training accuracy: 0.9548 | Validation accuracy: 0.9522\n",
      "Epoch 18 / 50\n",
      "Loss: 0.1225\n",
      "Training accuracy: 0.9553 | Validation accuracy: 0.9512\n",
      "Epoch 19 / 50\n",
      "Loss: 0.1077\n",
      "Training accuracy: 0.9563 | Validation accuracy: 0.9533\n",
      "Epoch 20 / 50\n",
      "Loss: 0.1117\n",
      "Training accuracy: 0.9567 | Validation accuracy: 0.9527\n",
      "Epoch 21 / 50\n",
      "Loss: 0.1108\n",
      "Training accuracy: 0.9574 | Validation accuracy: 0.9531\n",
      "Epoch 22 / 50\n",
      "Loss: 0.1086\n",
      "Training accuracy: 0.9582 | Validation accuracy: 0.9528\n",
      "Epoch 23 / 50\n",
      "Loss: 0.1089\n",
      "Training accuracy: 0.9586 | Validation accuracy: 0.9532\n",
      "Epoch 24 / 50\n",
      "Loss: 0.1057\n",
      "Training accuracy: 0.9588 | Validation accuracy: 0.9531\n",
      "Epoch 25 / 50\n",
      "Loss: 0.1052\n",
      "Training accuracy: 0.9592 | Validation accuracy: 0.9532\n",
      "Epoch 26 / 50\n",
      "Loss: 0.1060\n",
      "Training accuracy: 0.9599 | Validation accuracy: 0.9536\n",
      "Epoch 27 / 50\n",
      "Loss: 0.1088\n",
      "Training accuracy: 0.9606 | Validation accuracy: 0.9526\n",
      "Epoch 28 / 50\n",
      "Loss: 0.1041\n",
      "Training accuracy: 0.9612 | Validation accuracy: 0.9528\n",
      "Epoch 29 / 50\n",
      "Loss: 0.0971\n",
      "Training accuracy: 0.9613 | Validation accuracy: 0.9533\n",
      "Epoch 30 / 50\n",
      "Loss: 0.1034\n",
      "Training accuracy: 0.9621 | Validation accuracy: 0.9532\n",
      "Epoch 31 / 50\n",
      "Loss: 0.0967\n",
      "Training accuracy: 0.9627 | Validation accuracy: 0.9533\n",
      "Epoch 32 / 50\n",
      "Loss: 0.0950\n",
      "Training accuracy: 0.9631 | Validation accuracy: 0.9531\n",
      "Epoch 33 / 50\n",
      "Loss: 0.1017\n",
      "Training accuracy: 0.9635 | Validation accuracy: 0.9532\n",
      "Epoch 34 / 50\n",
      "Loss: 0.0953\n",
      "Training accuracy: 0.9643 | Validation accuracy: 0.9526\n",
      "Epoch 35 / 50\n",
      "Loss: 0.0966\n",
      "Training accuracy: 0.9647 | Validation accuracy: 0.9528\n",
      "Epoch 36 / 50\n",
      "Loss: 0.0978\n",
      "Training accuracy: 0.9650 | Validation accuracy: 0.9529\n",
      "Epoch 37 / 50\n",
      "Loss: 0.0929\n",
      "Training accuracy: 0.9644 | Validation accuracy: 0.9534\n",
      "Epoch 38 / 50\n",
      "Loss: 0.0899\n",
      "Training accuracy: 0.9655 | Validation accuracy: 0.9519\n",
      "Epoch 39 / 50\n",
      "Loss: 0.0931\n",
      "Training accuracy: 0.9661 | Validation accuracy: 0.9513\n",
      "Epoch 40 / 50\n",
      "Loss: 0.0846\n",
      "Training accuracy: 0.9664 | Validation accuracy: 0.9524\n",
      "Epoch 41 / 50\n",
      "Loss: 0.0927\n",
      "Training accuracy: 0.9670 | Validation accuracy: 0.9524\n",
      "Epoch 42 / 50\n",
      "Loss: 0.0983\n",
      "Training accuracy: 0.9673 | Validation accuracy: 0.9515\n",
      "Epoch 43 / 50\n",
      "Loss: 0.0876\n",
      "Training accuracy: 0.9675 | Validation accuracy: 0.9523\n",
      "Epoch 44 / 50\n",
      "Loss: 0.0906\n",
      "Training accuracy: 0.9678 | Validation accuracy: 0.9519\n",
      "Epoch 45 / 50\n",
      "Loss: 0.0885\n",
      "Training accuracy: 0.9681 | Validation accuracy: 0.9514\n",
      "Epoch 46 / 50\n",
      "Loss: 0.0812\n",
      "Training accuracy: 0.9691 | Validation accuracy: 0.9524\n",
      "Epoch 47 / 50\n",
      "Loss: 0.0866\n",
      "Training accuracy: 0.9696 | Validation accuracy: 0.9522\n",
      "Epoch 48 / 50\n",
      "Loss: 0.0803\n",
      "Training accuracy: 0.9698 | Validation accuracy: 0.9519\n",
      "Epoch 49 / 50\n",
      "Loss: 0.0800\n",
      "Training accuracy: 0.9701 | Validation accuracy: 0.9502\n",
      "Epoch 50 / 50\n",
      "Loss: 0.0804\n",
      "Training accuracy: 0.9704 | Validation accuracy: 0.9501\n",
      "\n",
      "Training completed!\n"
     ]
    }
   ],
   "source": [
    "### Function for training\n",
    "epochs = 50\n",
    "learning_rate = 0.001\n",
    "\n",
    "seq_length = 50\n",
    "hidden_layer_1 = 50\n",
    "\n",
    "batch_size = 10000\n",
    "\n",
    "\n",
    "## Define dataloader\n",
    "train_loader = torch.utils.data.DataLoader(dataset=training_dataset, batch_size=batch_size, shuffle=True)\n",
    "validation_loader = torch.utils.data.DataLoader(dataset=validation_dataset, batch_size=len(validation_dataset), shuffle=False)\n",
    "\n",
    "## Initialize net and define loss function and optimizer\n",
    "model = Net(seq_length, hidden_layer_1)\n",
    "criterion = nn.BCELoss()\n",
    "optimizer = torch.optim.Adam(model.parameters(), lr=learning_rate)\n",
    "\n",
    "\n",
    "##### Iterate through the data\n",
    "loss_acc = {'Loss': [], 'Train accuracy': [], 'Validation accuracy':[]}\n",
    "\n",
    "for epoch in range(epochs):\n",
    "    print(\"Epoch {} / {}\".format(epoch+1, epochs))\n",
    "\n",
    "    train_correct = 0    \n",
    "    model.train()\n",
    "    \n",
    "    for x, y in train_loader:\n",
    "        # Set gradients to zero\n",
    "        optimizer.zero_grad()\n",
    "        \n",
    "        # Forward pass\n",
    "        y_hat = model(x)\n",
    "        \n",
    "        # Evaluate output / compute loss\n",
    "        y_hat = y_hat.view(-1)        \n",
    "        loss = criterion(y_hat, y)       \n",
    "        \n",
    "        # Backward pass / optimize\n",
    "        loss.backward()\n",
    "        \n",
    "        # Update weights\n",
    "        optimizer.step()\n",
    "                \n",
    "        ## Evaluate train result\n",
    "        y_hat = np.where(y_hat.detach().numpy() > 0.5, 1, 0)\n",
    "        train_correct += (y_hat == y.numpy()).sum()\n",
    "    \n",
    "    train_acc = train_correct / len(train_loader.dataset)\n",
    "    loss_acc['Loss'].append(loss.item())\n",
    "      \n",
    "        \n",
    "    # Get validation accuracy\n",
    "    val_correct = 0\n",
    "    with torch.no_grad():\n",
    "        for x, y in validation_loader:\n",
    "            y_hat = model(x)\n",
    "            y_hat = y_hat.view(-1)\n",
    "\n",
    "            ## Evaluate validation result\n",
    "            y_hat = np.where(y_hat.numpy() > 0.5, 1, 0)\n",
    "            val_correct += (y_hat == y.numpy()).sum()\n",
    "    \n",
    "    val_acc = val_correct / len(validation_loader.dataset)\n",
    "    \n",
    "    \n",
    "    # Append scores to dictionary\n",
    "    loss_acc['Train accuracy'].append(train_acc)\n",
    "    loss_acc['Validation accuracy'].append(val_acc)\n",
    "    \n",
    "    print(\"Loss: {:.4f}\".format(loss_acc['Loss'][-1]))\n",
    "    print(\"Training accuracy: {:.4f} | Validation accuracy: {:.4f}\".format(loss_acc['Train accuracy'][-1], loss_acc['Validation accuracy'][-1]))\n",
    "\n",
    "## Save the model\n",
    "torch.save(model.state_dict(), './quora_questions_classifier.pt')\n",
    "    \n",
    "print(\"\\nTraining completed!\")"
   ]
  },
  {
   "cell_type": "code",
   "execution_count": 14,
   "metadata": {},
   "outputs": [
    {
     "data": {
      "text/plain": [
       "Text(0, 0.5, 'Accuracy [%]')"
      ]
     },
     "execution_count": 14,
     "metadata": {},
     "output_type": "execute_result"
    },
    {
     "data": {
      "image/png": "[encoded data removed]",
      "text/plain": [
       "<Figure size 1440x720 with 1 Axes>"
      ]
     },
     "metadata": {},
     "output_type": "display_data"
    },
    {
     "data": {
      "image/png": "[encoded data removed]",
      "text/plain": [
       "<Figure size 1440x720 with 1 Axes>"
      ]
     },
     "metadata": {},
     "output_type": "display_data"
    }
   ],
   "source": [
    "## Plots\n",
    "fig = plt.figure(1)\n",
    "plt.plot(loss_acc['Loss'], color=\"red\")\n",
    "plt.title(\"Loss\")\n",
    "plt.xlabel(\"Iteration\")\n",
    "plt.ylabel(\"Loss [-]\")\n",
    "\n",
    "fig = plt.figure(2)\n",
    "plt.plot(loss_acc['Train accuracy'], \"o-\", color=\"black\", label=\"Train\")\n",
    "plt.plot(loss_acc['Validation accuracy'], \"^-\",color=\"blue\", label=\"Validation\")\n",
    "plt.title(\"Accuracy\")\n",
    "plt.xlabel(\"Epoch\")\n",
    "plt.legend()\n",
    "plt.ylabel(\"Accuracy [%]\")"
   ]
  },
  {
   "cell_type": "markdown",
   "metadata": {},
   "source": [
    "## 4. Evaluation\n",
    "\n",
    "Finally we evaluate the performance of our model in more detail. Note that we use the validation data again for this. This is okay in this case since the model has not been tuned based on this data, even though it has been used during the training. However, a cleaner approach would be to have training, validation and testing data.\n",
    "\n",
    "Let's compute a few metrics. We begin with the accuracy:"
   ]
  },
  {
   "cell_type": "code",
   "execution_count": 15,
   "metadata": {},
   "outputs": [
    {
     "data": {
      "text/plain": [
       "0.950025"
      ]
     },
     "execution_count": 15,
     "metadata": {},
     "output_type": "execute_result"
    }
   ],
   "source": [
    "## Use trained model for validation\n",
    "model.eval()\n",
    "\n",
    "for x, y in validation_loader:\n",
    "    validation_data = x\n",
    "    validation_labels = y\n",
    "\n",
    "pred = model(validation_data)\n",
    "pred = pred.squeeze()\n",
    "predicted_labels = np.where(pred > 0.5, 1, 0)\n",
    "\n",
    "accuracy_score(np.array(validation_labels), predicted_labels)"
   ]
  },
  {
   "cell_type": "markdown",
   "metadata": {},
   "source": [
    "As mentioned earlier, in unbalanced data other metrics can be more useful to assess the model's performance. Let's look at:\n",
    "\n",
    "*precision* $= \\frac{t_{p}}{t_{p} + f_{p}}$\n",
    "\n",
    "\n",
    "*recall* $= \\frac{t_{p}}{t_{p} + f_{n}}$\n",
    "\n",
    "\n",
    "*F1-Score* $= 2\\cdot \\frac{precision \\cdot recall}{precision + recall}$"
   ]
  },
  {
   "cell_type": "code",
   "execution_count": 16,
   "metadata": {},
   "outputs": [
    {
     "name": "stdout",
     "output_type": "stream",
     "text": [
      "Precision: 0.6039\n",
      "Recall: 0.5500\n",
      "F1 Score: 0.5757\n"
     ]
    }
   ],
   "source": [
    "def Compute_Metrics():\n",
    "    precision = precision_score(validation_labels, predicted_labels)\n",
    "    print(\"Precision: {:.4f}\".format(precision))\n",
    "    \n",
    "    recall = recall_score(validation_labels, predicted_labels)\n",
    "    print(\"Recall: {:.4f}\".format(recall))\n",
    "    \n",
    "    f1 = f1_score(validation_labels, predicted_labels)\n",
    "    print(\"F1 Score: {:.4f}\".format(f1))\n",
    "    \n",
    "    return precision, recall, f1\n",
    "\n",
    "precision, recall, f1 = Compute_Metrics()"
   ]
  },
  {
   "cell_type": "code",
   "execution_count": 17,
   "metadata": {},
   "outputs": [
    {
     "data": {
      "image/png": "[encoded data removed]",
      "text/plain": [
       "<Figure size 1440x720 with 2 Axes>"
      ]
     },
     "metadata": {},
     "output_type": "display_data"
    }
   ],
   "source": [
    "## Confusion matrix\n",
    "def Confusion_Matrix(con_mat):\n",
    "    \n",
    "    plt.title(\"Confusion Matrix\", fontsize=50)\n",
    "    sn.set(font_scale=2.5)\n",
    "    sn.heatmap(con_mat, annot=True, fmt='g', annot_kws={\"size\":30}, xticklabels=[\"Negatives\", \"Positives\"], yticklabels=[\"Negatives\", \"Positives\"], \n",
    "               cmap=\"Blues\")\n",
    "    plt.xlabel(\"Prediction\", fontsize=35)\n",
    "    plt.ylabel(\"Truth\", fontsize=35)\n",
    "\n",
    "    \n",
    "con_mat = confusion_matrix(validation_labels, predicted_labels)\n",
    "Confusion_Matrix(con_mat)"
   ]
  },
  {
   "cell_type": "markdown",
   "metadata": {},
   "source": [
    "### Conclusion"
   ]
  },
  {
   "cell_type": "code",
   "execution_count": null,
   "metadata": {},
   "outputs": [],
   "source": []
  },
  {
   "cell_type": "markdown",
   "metadata": {},
   "source": [
    "## References\n",
    "[1] Jeffrey Pennington, Richard Socher, and Christopher D. Manning. *GloVe: Global Vectors for Word Representation*. 2014.\n",
    "\n",
    "[2] Han, Kamber, Pei. *Data Mining: Concepts and Techniques*. 2011"
   ]
  }
 ],
 "metadata": {
  "kernelspec": {
   "display_name": "Python 3",
   "language": "python",
   "name": "python3"
  },
  "language_info": {
   "codemirror_mode": {
    "name": "ipython",
    "version": 3
   },
   "file_extension": ".py",
   "mimetype": "text/x-python",
   "name": "python",
   "nbconvert_exporter": "python",
   "pygments_lexer": "ipython3",
   "version": "3.6.5"
  }
 },
 "nbformat": 4,
 "nbformat_minor": 2
}
