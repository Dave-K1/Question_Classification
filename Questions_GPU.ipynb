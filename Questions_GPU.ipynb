{
 "cells": [
  {
   "cell_type": "markdown",
   "metadata": {},
   "source": [
    "# Quora Questions on GPU\n",
    "\n",
    "The goal of this project is to identify insincere questions in a dataset of around 1 300 000 questions from Quora. The questions are about various topics and vary in length.\n",
    "\n",
    "This is a short notebook to try the code from the main notebook on GPU."
   ]
  },
  {
   "cell_type": "code",
   "execution_count": null,
   "metadata": {},
   "outputs": [],
   "source": []
  },
  {
   "cell_type": "code",
   "execution_count": 2,
   "metadata": {},
   "outputs": [],
   "source": [
    "## Imports\n",
    "import tensorflow\n",
    "import torch\n",
    "import torch.nn as nn\n",
    "import torch.nn.functional as F\n",
    "\n",
    "import pandas as pd\n",
    "import numpy as np\n",
    "import pickle\n",
    "import string\n",
    "import random\n",
    "\n",
    "from sklearn.model_selection import train_test_split\n",
    "from tensorflow.keras.preprocessing.text import Tokenizer\n",
    "import tensorflow.keras.preprocessing.sequence as sq\n",
    "\n",
    "\n",
    "import matplotlib.pyplot as plt\n",
    "%matplotlib inline\n",
    "plt.rcParams['figure.figsize'] = 20, 10\n",
    "plt.rcParams.update({'font.size': 25})\n",
    "\n",
    "from IPython.display import clear_output"
   ]
  },
  {
   "cell_type": "markdown",
   "metadata": {},
   "source": [
    "## 1. Data exploration\n",
    "\n",
    "There are over 1 300 000 sentences in the dataset.\n",
    "\n",
    "We are going to use the GloVe 300 embedding from Common Crawl [1]."
   ]
  },
  {
   "cell_type": "code",
   "execution_count": 92,
   "metadata": {},
   "outputs": [],
   "source": [
    "# Load data and embedding\n",
    "path_in = './data/'\n",
    "\n",
    "train = pd.read_csv(path_in + 'train.csv')\n",
    "#train = train[0:300000]"
   ]
  },
  {
   "cell_type": "markdown",
   "metadata": {},
   "source": [
    "### 1.1 Example sentences\n",
    "\n",
    "The sentences are in `question_text` and the label is in `target`, where `1` is a positive (insincere) and `0`a negative. Here is an example sentence along with the label:"
   ]
  },
  {
   "cell_type": "code",
   "execution_count": 4,
   "metadata": {},
   "outputs": [
    {
     "name": "stdout",
     "output_type": "stream",
     "text": [
      "Example sentence: \"Is there such a thing as dressing moderately, and if so, how is that different than dressing modestly?\"\n",
      "Label: 0\n"
     ]
    }
   ],
   "source": [
    "print(\"Example sentence: \\\"{}\\\"\\nLabel: {}\".format(train['question_text'][8], train['target'][8]))"
   ]
  },
  {
   "cell_type": "markdown",
   "metadata": {},
   "source": [
    "Let's see how many positives and negatives we have in the data:"
   ]
  },
  {
   "cell_type": "code",
   "execution_count": 5,
   "metadata": {},
   "outputs": [
    {
     "name": "stdout",
     "output_type": "stream",
     "text": [
      "Ratio of positives to total: 6.19%\n"
     ]
    }
   ],
   "source": [
    "print(\"Ratio of positives to total: {:.2f}%\".format(len(train.loc[train['target'] == 1])*100 / len(train)))"
   ]
  },
  {
   "cell_type": "markdown",
   "metadata": {},
   "source": [
    "That means our model can achieve an accuracy of 95% purley by guessing. This shows that the accuracy score is not a good metric to quanitify a model when having strongly unbalanced data [2]. "
   ]
  },
  {
   "cell_type": "code",
   "execution_count": null,
   "metadata": {},
   "outputs": [],
   "source": []
  },
  {
   "cell_type": "code",
   "execution_count": null,
   "metadata": {},
   "outputs": [],
   "source": []
  },
  {
   "cell_type": "markdown",
   "metadata": {},
   "source": [
    "### 2.2 The easy way - Keras tokenizer\n",
    "\n",
    "We now split the dataset into train, validation and testing. We also utilize the PyTorch Datalaoder functions to simplify batching."
   ]
  },
  {
   "cell_type": "code",
   "execution_count": 93,
   "metadata": {},
   "outputs": [],
   "source": [
    "# Build the tokenizer dictionary in the tokenizer class\n",
    "tokenizer = Tokenizer(filters='!\"#$%&()*+,-./:;<=>?@[\\\\]^_`{|}~\\t\\n')\n",
    "tokenizer.fit_on_texts(train['question_text'])\n",
    "\n",
    "# Split train set into train and validation sets\n",
    "train, validation = train_test_split(train, test_size=0.1, shuffle = True)\n",
    "train.reset_index(inplace=True)\n",
    "validation.reset_index(inplace=True)\n",
    "\n",
    "# Tokenize the questions\n",
    "train_sequences = tokenizer.texts_to_sequences(train['question_text'])\n",
    "validation_sequences = tokenizer.texts_to_sequences(validation['question_text'])\n",
    "\n",
    "# Save the tokenizer dictionary and the number of words in it\n",
    "word_index = tokenizer.word_index\n",
    "vocab_size = len(word_index)"
   ]
  },
  {
   "cell_type": "markdown",
   "metadata": {},
   "source": [
    "First we tokenize all words in the data using the `Tokenizer` from the Keras library. Note that we filter out the characters given to the `filters` attribute.\n",
    "\n",
    "Next, we split the data into training and validation data.\n",
    "\n",
    "Finally, using the tokens defined in the first step, we can tokenize the indivdual sentences from the questions. That way, we get a vector for each sentence. Here, the length is the number of words, exlcuding the characters in the filter.\n",
    "\n",
    "**Output:**\n",
    "\n",
    "`word_index`Dictionary of word and assigned number (token)\n",
    "\n",
    "`vocab_size` Int number of words in vocabulary\n",
    "\n",
    "TODO:\n",
    "* Merge similar words together\n",
    "* Include punctuation"
   ]
  },
  {
   "cell_type": "code",
   "execution_count": 94,
   "metadata": {},
   "outputs": [],
   "source": [
    "## Pad sequences with 0s so that each sequence is of the same length respresented by the max_length\n",
    "max_length = 50\n",
    "padding_type = 'pre'\n",
    "trunc_type = 'pre'\n",
    "\n",
    "train_sequences_padded = sq.pad_sequences(train_sequences, maxlen=max_length, padding=padding_type, truncating=trunc_type)\n",
    "validation_sequences_padded = sq.pad_sequences(validation_sequences, maxlen=max_length, padding=padding_type, truncating=trunc_type)"
   ]
  },
  {
   "cell_type": "code",
   "execution_count": 95,
   "metadata": {},
   "outputs": [],
   "source": [
    "## Convert data to tensors\n",
    "training_dataset = torch.utils.data.TensorDataset(torch.LongTensor(np.array(train_sequences_padded)), torch.FloatTensor(np.array(train['target'])))\n",
    "validation_dataset = torch.utils.data.TensorDataset(torch.LongTensor(np.array(validation_sequences_padded)), torch.FloatTensor(np.array(validation['target'])))"
   ]
  },
  {
   "cell_type": "markdown",
   "metadata": {},
   "source": [
    "In the dataset for training, we now have an array of length 50 with tokens for each sentence."
   ]
  },
  {
   "cell_type": "markdown",
   "metadata": {},
   "source": [
    "### 2.3 Embedding\n",
    "We use the GloVe 300 ... embedding. It was trained on ??. We want to get a tensor which includes the 300 dimensional weights for all words in our vocabulary. This `embedding_matrix` is used later by the embedding layer."
   ]
  },
  {
   "cell_type": "code",
   "execution_count": 96,
   "metadata": {},
   "outputs": [
    {
     "name": "stdout",
     "output_type": "stream",
     "text": [
      "Loading word embeddings...\n",
      "Finished loading word embeddings. 222162 words loaded.\n"
     ]
    }
   ],
   "source": [
    "def load_embedding(embedding_File, embedding_dim, vocab_size, word_index):\n",
    "    print('Loading word embeddings...')\n",
    "    embedding_index = {}\n",
    "    with open(embedding_File,'r', encoding = 'utf8') as f:\n",
    "        for line in f:\n",
    "            values = line.split();\n",
    "            word = ''.join(values[:-1*embedding_dim]);\n",
    "            coefs = np.asarray(values[-1*embedding_dim:], dtype='float32');\n",
    "            embedding_index[word] = coefs;\n",
    "\n",
    "    embedding_matrix = np.zeros((vocab_size+1, embedding_dim));\n",
    "    for word, i in word_index.items():\n",
    "        embedding_vector = embedding_index.get(word);\n",
    "        if embedding_vector is not None:\n",
    "            embedding_matrix[i] = embedding_vector;  \n",
    "            \n",
    "    print('Finished loading word embeddings. {:.0f} words loaded.'.format(len(embedding_matrix)))\n",
    "    return embedding_matrix\n",
    "\n",
    "## Load embedding\n",
    "embedding_dim = 300\n",
    "embedding_File = './data/GloVe300d.txt'\n",
    "\n",
    "embedding_matrix = load_embedding(embedding_File, embedding_dim, vocab_size, word_index)\n",
    "weights = torch.FloatTensor(embedding_matrix)"
   ]
  },
  {
   "cell_type": "markdown",
   "metadata": {},
   "source": [
    "## 3. Prediction"
   ]
  },
  {
   "cell_type": "markdown",
   "metadata": {},
   "source": [
    "### 3.1 Net\n",
    "The net has an embedding layer which feeds into the LSTM layer. The LSTM is connected to a linear layer.\n",
    "\n",
    "For the LSTM layer we want a many-to-one architecture. That means we want to feed in the sequence (whole sentence) and get one output.\n",
    "\n",
    "The LSTM layer has the outputs `lstm_out, (h_n, c_n)`. To get the many-to-one output, you can either take the last element of the sequence `lstm_out`, or `h_n` which is the same. For more info see the documentation [https://pytorch.org/docs/stable/nn.html#lstm]."
   ]
  },
  {
   "cell_type": "code",
   "execution_count": 97,
   "metadata": {},
   "outputs": [],
   "source": [
    "class Net(nn.Module):\n",
    "    def __init__(self, seq_length, hidden_layer_1, hidden_layer_2):\n",
    "        super(Net, self).__init__()\n",
    "        \n",
    "        ## Embedding layer\n",
    "        self.embd = nn.Embedding.from_pretrained(weights)\n",
    "        \n",
    "        ## LSTM\n",
    "        self.lstm = nn.LSTM(input_size=len(weights[0,:]), hidden_size=hidden_layer_1, batch_first=True)\n",
    "        \n",
    "        ## Linear layer\n",
    "        self.fc1 = nn.Linear(hidden_layer_1, hidden_layer_2)\n",
    "        self.relu1 = nn.ReLU()\n",
    "        self.fc2 = nn.Linear(hidden_layer_2, 1)\n",
    "        self.relu2 = nn.ReLU()\n",
    "        self.out = nn.Sigmoid()\n",
    "\n",
    "    def forward(self, x):\n",
    "        embd_out = self.embd(x)         \n",
    "        lstm_out, (h_out, _) = self.lstm(embd_out)\n",
    "        x = self.relu1(self.fc1(h_out))\n",
    "        x = self.relu2(self.fc2(x))\n",
    "        x = self.out(x)\n",
    "        \n",
    "        return x"
   ]
  },
  {
   "cell_type": "markdown",
   "metadata": {},
   "source": [
    "### 3.2 Train the net"
   ]
  },
  {
   "cell_type": "code",
   "execution_count": 88,
   "metadata": {},
   "outputs": [
    {
     "name": "stdout",
     "output_type": "stream",
     "text": [
      "Cuda available\n"
     ]
    }
   ],
   "source": [
    "if torch.cuda.is_available():\n",
    "    cuda = torch.device('cuda')\n",
    "    print(\"Cuda available\")\n",
    "    \n",
    "    ## Convert data to CUDA objects\n",
    "    training_dataset = torch.utils.data.TensorDataset(torch.LongTensor(np.array(train_sequences_padded)).to('cuda'), torch.FloatTensor(np.array(train['target'])).to('cuda'))\n",
    "    validation_dataset = torch.utils.data.TensorDataset(torch.LongTensor(np.array(validation_sequences_padded)).to('cuda'), torch.FloatTensor(np.array(validation['target'])).to('cuda')) \n",
    "    weights = weights.to('cuda')"
   ]
  },
  {
   "cell_type": "code",
   "execution_count": 89,
   "metadata": {},
   "outputs": [],
   "source": [
    "torch.cuda.empty_cache()"
   ]
  },
  {
   "cell_type": "code",
   "execution_count": 99,
   "metadata": {},
   "outputs": [
    {
     "name": "stdout",
     "output_type": "stream",
     "text": [
      "Epoch 1 / 20\n",
      "Loss: 0.6931\n",
      "Training accuracy: 0.94 | Validation accuracy: 0.94\n",
      "Epoch 2 / 20\n",
      "Loss: 0.6931\n",
      "Training accuracy: 0.94 | Validation accuracy: 0.94\n",
      "Epoch 3 / 20\n"
     ]
    },
    {
     "ename": "KeyboardInterrupt",
     "evalue": "",
     "output_type": "error",
     "traceback": [
      "\u001b[0;31m---------------------------------------------------------------------------\u001b[0m",
      "\u001b[0;31mKeyboardInterrupt\u001b[0m                         Traceback (most recent call last)",
      "\u001b[0;32m<ipython-input-99-81dcc61d44c8>\u001b[0m in \u001b[0;36m<module>\u001b[0;34m()\u001b[0m\n\u001b[1;32m     40\u001b[0m \u001b[0;34m\u001b[0m\u001b[0m\n\u001b[1;32m     41\u001b[0m         \u001b[0;31m# Backward pass / optimize\u001b[0m\u001b[0;34m\u001b[0m\u001b[0;34m\u001b[0m\u001b[0m\n\u001b[0;32m---> 42\u001b[0;31m         \u001b[0mloss\u001b[0m\u001b[0;34m.\u001b[0m\u001b[0mbackward\u001b[0m\u001b[0;34m(\u001b[0m\u001b[0;34m)\u001b[0m\u001b[0;34m\u001b[0m\u001b[0m\n\u001b[0m\u001b[1;32m     43\u001b[0m \u001b[0;34m\u001b[0m\u001b[0m\n\u001b[1;32m     44\u001b[0m         \u001b[0;31m# Update weights\u001b[0m\u001b[0;34m\u001b[0m\u001b[0;34m\u001b[0m\u001b[0m\n",
      "\u001b[0;32m~/anaconda3/envs/pytorch_p36/lib/python3.6/site-packages/torch/tensor.py\u001b[0m in \u001b[0;36mbackward\u001b[0;34m(self, gradient, retain_graph, create_graph)\u001b[0m\n\u001b[1;32m    164\u001b[0m                 \u001b[0mproducts\u001b[0m\u001b[0;34m.\u001b[0m \u001b[0mDefaults\u001b[0m \u001b[0mto\u001b[0m\u001b[0;31m \u001b[0m\u001b[0;31m`\u001b[0m\u001b[0;31m`\u001b[0m\u001b[0;32mFalse\u001b[0m\u001b[0;31m`\u001b[0m\u001b[0;31m`\u001b[0m\u001b[0;34m.\u001b[0m\u001b[0;34m\u001b[0m\u001b[0m\n\u001b[1;32m    165\u001b[0m         \"\"\"\n\u001b[0;32m--> 166\u001b[0;31m         \u001b[0mtorch\u001b[0m\u001b[0;34m.\u001b[0m\u001b[0mautograd\u001b[0m\u001b[0;34m.\u001b[0m\u001b[0mbackward\u001b[0m\u001b[0;34m(\u001b[0m\u001b[0mself\u001b[0m\u001b[0;34m,\u001b[0m \u001b[0mgradient\u001b[0m\u001b[0;34m,\u001b[0m \u001b[0mretain_graph\u001b[0m\u001b[0;34m,\u001b[0m \u001b[0mcreate_graph\u001b[0m\u001b[0;34m)\u001b[0m\u001b[0;34m\u001b[0m\u001b[0m\n\u001b[0m\u001b[1;32m    167\u001b[0m \u001b[0;34m\u001b[0m\u001b[0m\n\u001b[1;32m    168\u001b[0m     \u001b[0;32mdef\u001b[0m \u001b[0mregister_hook\u001b[0m\u001b[0;34m(\u001b[0m\u001b[0mself\u001b[0m\u001b[0;34m,\u001b[0m \u001b[0mhook\u001b[0m\u001b[0;34m)\u001b[0m\u001b[0;34m:\u001b[0m\u001b[0;34m\u001b[0m\u001b[0m\n",
      "\u001b[0;32m~/anaconda3/envs/pytorch_p36/lib/python3.6/site-packages/torch/autograd/__init__.py\u001b[0m in \u001b[0;36mbackward\u001b[0;34m(tensors, grad_tensors, retain_graph, create_graph, grad_variables)\u001b[0m\n\u001b[1;32m     97\u001b[0m     Variable._execution_engine.run_backward(\n\u001b[1;32m     98\u001b[0m         \u001b[0mtensors\u001b[0m\u001b[0;34m,\u001b[0m \u001b[0mgrad_tensors\u001b[0m\u001b[0;34m,\u001b[0m \u001b[0mretain_graph\u001b[0m\u001b[0;34m,\u001b[0m \u001b[0mcreate_graph\u001b[0m\u001b[0;34m,\u001b[0m\u001b[0;34m\u001b[0m\u001b[0m\n\u001b[0;32m---> 99\u001b[0;31m         allow_unreachable=True)  # allow_unreachable flag\n\u001b[0m\u001b[1;32m    100\u001b[0m \u001b[0;34m\u001b[0m\u001b[0m\n\u001b[1;32m    101\u001b[0m \u001b[0;34m\u001b[0m\u001b[0m\n",
      "\u001b[0;31mKeyboardInterrupt\u001b[0m: "
     ]
    }
   ],
   "source": [
    "### Function for training\n",
    "epochs = 20\n",
    "learning_rate = 0.001\n",
    "momentum = 0.9\n",
    "\n",
    "seq_length = 50\n",
    "hidden_layer_1 = 100\n",
    "hidden_layer_2 = 100\n",
    "\n",
    "batch_size = 10000\n",
    "\n",
    "\n",
    "## Define dataloader\n",
    "train_loader = torch.utils.data.DataLoader(dataset=training_dataset, batch_size=batch_size, shuffle=True)\n",
    "validation_loader = torch.utils.data.DataLoader(dataset=validation_dataset, batch_size=len(validation_dataset), shuffle=False)\n",
    "\n",
    "## Initialize net and define loss function and optimizer\n",
    "model = Net(seq_length, hidden_layer_1, hidden_layer_2).cuda()\n",
    "criterion = nn.BCELoss()\n",
    "optimizer = torch.optim.SGD(model.parameters(), lr=learning_rate, momentum=momentum)\n",
    "\n",
    "##### Iterate through the data\n",
    "loss_acc = {'Loss': [], 'Train accuracy': [], 'Validation accuracy':[]}\n",
    "#model.train() \n",
    "for epoch in range(epochs):\n",
    "    print(\"Epoch {} / {}\".format(epoch+1, epochs))\n",
    "      \n",
    "    train_correct = 0    \n",
    "      \n",
    "    for x, y in train_loader:\n",
    "        # Set gradients to zero\n",
    "        optimizer.zero_grad()\n",
    "        \n",
    "        # Forward pass\n",
    "        y_hat = model(x)\n",
    "        \n",
    "        # Evaluate output / compute loss\n",
    "        y_hat = y_hat.view(-1) \n",
    "        loss = criterion(y_hat, y)       \n",
    "        \n",
    "        # Backward pass / optimize\n",
    "        loss.backward()\n",
    "        \n",
    "        # Update weights\n",
    "        optimizer.step()        \n",
    "        \n",
    "        with torch.no_grad():\n",
    "            y_hat = y_hat.detach().cpu().clone().numpy()\n",
    "            y = y.detach().cpu().clone().numpy()\n",
    "            \n",
    "            ## Evaluate train result\n",
    "            y_hat = np.where(y_hat > 0.5, 1, 0)\n",
    "            train_correct += (y_hat == y).sum()\n",
    "            loss_acc['Loss'].append(loss.item())\n",
    "        \n",
    "    #model.eval()\n",
    "    val_correct = 0    \n",
    "    for x, y in validation_loader:\n",
    "        y_hat = model(x)\n",
    "        \n",
    "        \n",
    "        ## Evaluate validation result\n",
    "        with torch.no_grad():\n",
    "            y_hat.squeeze_()\n",
    "            y_hat = y_hat.detach().cpu().clone().numpy()\n",
    "            y = y.detach().cpu().clone().numpy()\n",
    "          \n",
    "            y_hat = np.where(y_hat > 0.5, 1, 0)\n",
    "            val_correct += (y_hat == y).sum()\n",
    "            \n",
    "    \n",
    "    train_acc = train_correct / len(train_loader.dataset)\n",
    "    val_acc = val_correct / len(validation_loader.dataset)\n",
    "    \n",
    "    loss_acc['Train accuracy'].append(train_acc)\n",
    "    loss_acc['Validation accuracy'].append(val_acc)\n",
    "    \n",
    "    print(\"Loss: {:.4f}\".format(loss_acc['Loss'][-1]))\n",
    "    print(\"Training accuracy: {:.4f} | Validation accuracy: {:.4f}\".format(loss_acc['Train accuracy'][-1], loss_acc['Validation accuracy'][-1]))\n",
    "\n",
    "## Save trained model\n",
    "torch.save(model.state_dict(), \"./results/model.p\")\n",
    "    \n",
    "print(\"\\nTraining completed!\")"
   ]
  },
  {
   "cell_type": "code",
   "execution_count": null,
   "metadata": {},
   "outputs": [],
   "source": [
    "print(torch.cuda.memory_allocated() / 1e9)"
   ]
  },
  {
   "cell_type": "code",
   "execution_count": 91,
   "metadata": {},
   "outputs": [
    {
     "data": {
      "image/png": "[encoded data removed]",
      "text/plain": [
       "<Figure size 1440x720 with 1 Axes>"
      ]
     },
     "metadata": {},
     "output_type": "display_data"
    },
    {
     "data": {
      "image/png": "[encoded data removed]",
      "text/plain": [
       "<Figure size 1440x720 with 1 Axes>"
      ]
     },
     "metadata": {},
     "output_type": "display_data"
    }
   ],
   "source": [
    "## Plots\n",
    "fig = plt.figure(1)\n",
    "plt.plot(loss_acc['Loss'], color=\"red\")\n",
    "plt.title(\"Loss\")\n",
    "plt.xlabel(\"Iteration\")\n",
    "plt.ylabel(\"Loss [-]\")\n",
    "plt.savefig(\"./results/Plot_loss.pdf\")\n",
    "\n",
    "\n",
    "fig = plt.figure(2)\n",
    "plt.plot(loss_acc['Train accuracy'], \"o-\", color=\"black\", label=\"Train\")\n",
    "plt.plot(loss_acc['Validation accuracy'], \"^-\",color=\"blue\", label=\"Validation\")\n",
    "plt.title(\"Accuracy\")\n",
    "plt.xlabel(\"Epoch\")\n",
    "plt.legend()\n",
    "plt.ylabel(\"Accuracy [%]\")\n",
    "plt.savefig(\"./results/Plot_accuracy.pdf\")"
   ]
  },
  {
   "cell_type": "markdown",
   "metadata": {},
   "source": [
    "## 4. Evaluation"
   ]
  },
  {
   "cell_type": "code",
   "execution_count": 17,
   "metadata": {},
   "outputs": [],
   "source": []
  },
  {
   "cell_type": "code",
   "execution_count": null,
   "metadata": {},
   "outputs": [],
   "source": [
    "## Use trained model for validation\n",
    "net.eval()\n",
    "\n",
    "#torch.save(net.state_dict(), './classifier/Classifier-.pt')\n",
    "\n",
    "x, y = Variable(testing_data), Variable(torch.from_numpy(np.array(testing_labels)), requires_grad=False)\n",
    "\n",
    "pred = net(x)\n",
    "predicted_labels = np.where(pred > 0.5, 1, 0)\n",
    "\n",
    "accuracy_score(np.array(testing_labels[\"RESULT\"]), predicted_labels)"
   ]
  },
  {
   "cell_type": "code",
   "execution_count": null,
   "metadata": {},
   "outputs": [],
   "source": [
    "def Compute_Metrics():\n",
    "    ## Precision\n",
    "    # r = t_p / (t_p + f_p)\n",
    "    precision = precision_score(testing_labels, predicted_labels)\n",
    "    print(\"Precision: {}\".format(precision))\n",
    "    \n",
    "    ## Recall\n",
    "    # r = t_p / (t_p + f_n)\n",
    "    recall = recall_score(testing_labels, predicted_labels)\n",
    "    print(\"Recall: {}\".format(recall))\n",
    "    \n",
    "    ## F1 Score\n",
    "    f1 = f1_score(testing_labels, predicted_labels)\n",
    "    print(\"F1 Score: {}\".format(f1))\n",
    "    \n",
    "    return precision, recall, f1\n",
    "\n",
    "precision, recall, f1 = Compute_Metrics()"
   ]
  },
  {
   "cell_type": "code",
   "execution_count": null,
   "metadata": {},
   "outputs": [],
   "source": [
    "## Confusion matrix\n",
    "def Confusion_Matrix(con_mat):\n",
    "    \n",
    "    plt.title(\"Confusion Matrix\", fontsize=50)\n",
    "    sn.set(font_scale=2.5)\n",
    "    sn.heatmap(con_mat, annot=True, fmt='g', annot_kws={\"size\":30}, xticklabels=[\"OK\", \"NOK\"], yticklabels=[\"OK\", \"NOK\"], \n",
    "               cmap=\"YlGnBu\")\n",
    "    plt.xlabel(\"Prediction\", fontsize=40)\n",
    "    plt.ylabel(\"Truth\", fontsize=40)\n",
    "\n",
    "    \n",
    "con_mat = confusion_matrix(testing_labels, predicted_labels)\n",
    "Confusion_Matrix(con_mat)"
   ]
  },
  {
   "cell_type": "markdown",
   "metadata": {},
   "source": [
    "## References\n",
    "[1] Jeffrey Pennington, Richard Socher, and Christopher D. Manning. *GloVe: Global Vectors for Word Representation*. 2014.\n",
    "\n",
    "[2] Han, Kamber, Pei. *Data Mining: Concepts and Techniques*. 2011"
   ]
  }
 ],
 "metadata": {
  "kernelspec": {
   "display_name": "Python 3",
   "language": "python",
   "name": "python3"
  },
  "language_info": {
   "codemirror_mode": {
    "name": "ipython",
    "version": 3
   },
   "file_extension": ".py",
   "mimetype": "text/x-python",
   "name": "python",
   "nbconvert_exporter": "python",
   "pygments_lexer": "ipython3",
   "version": "3.6.5"
  }
 },
 "nbformat": 4,
 "nbformat_minor": 2
}
