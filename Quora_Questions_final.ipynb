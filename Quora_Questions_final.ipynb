{
 "cells": [
  {
   "cell_type": "markdown",
   "metadata": {},
   "source": [
    "# Quora Questions\n",
    "\n",
    "The goal of this project is to identify insincere questions in a dataset of around 1 300 000 questions from Quora. The questions are about various topics and vary in length.\n"
   ]
  },
  {
   "cell_type": "code",
   "execution_count": 234,
   "metadata": {},
   "outputs": [],
   "source": [
    "## Imports\n",
    "import torch\n",
    "import torch.nn as nn\n",
    "import torch.nn.functional as F\n",
    "\n",
    "import pandas as pd\n",
    "import numpy as np\n",
    "import pickle\n",
    "import string\n",
    "import random\n",
    "\n",
    "from keras.preprocessing.text import Tokenizer\n",
    "import keras.preprocessing.sequence as sq\n",
    "\n",
    "\n",
    "import matplotlib.pyplot as plt\n",
    "%matplotlib inline\n",
    "plt.rcParams['figure.figsize'] = 20, 10\n",
    "plt.rcParams.update({'font.size': 25})\n",
    "\n",
    "from IPython.display import clear_output"
   ]
  },
  {
   "cell_type": "code",
   "execution_count": null,
   "metadata": {},
   "outputs": [],
   "source": [
    "if torch.cuda.is_available():\n",
    "    cuda = torch.device('cuda')\n",
    "    x_cpu = torch.empty(2)\n",
    "    x_gpu = torch.empty(2, device=cuda)\n",
    "    x_cpu_long = torch.empty(2, dtype=torch.int64)\n",
    "    print(\"Cuda available\")"
   ]
  },
  {
   "cell_type": "markdown",
   "metadata": {},
   "source": [
    "## 1. Data exploration\n",
    "\n",
    "There are over 1 300 000 sentences in the dataset.\n",
    "\n",
    "We are going to use the GloVe 300 embedding from Common Crawl [1]."
   ]
  },
  {
   "cell_type": "code",
   "execution_count": 253,
   "metadata": {},
   "outputs": [],
   "source": [
    "# Load data and embedding\n",
    "path_in = './data/'\n",
    "\n",
    "train = pd.read_csv(path_in + 'train.csv')\n",
    "\n",
    "train = train[0:1000]\n",
    "#test = pd.read_csv(path_in + 'test.csv')"
   ]
  },
  {
   "cell_type": "markdown",
   "metadata": {},
   "source": [
    "### 1.1 Example sentences\n",
    "\n",
    "The sentences are in `question_text` and the label is in `target`, where `1` is a positive (insincere) and `0`a negative. Here is an example sentence along with the label:"
   ]
  },
  {
   "cell_type": "code",
   "execution_count": 250,
   "metadata": {},
   "outputs": [
    {
     "name": "stdout",
     "output_type": "stream",
     "text": [
      "Example sentence: \"Did Julius Caesar bring a tyrannosaurus rex on his campaigns to frighten the Celts into submission?\"\n",
      "Label: 1\n"
     ]
    }
   ],
   "source": [
    "print(\"Example sentence: \\\"{}\\\"\\nLabel: {}\".format(train['question_text'][8], train['target'][8]))"
   ]
  },
  {
   "cell_type": "markdown",
   "metadata": {},
   "source": [
    "Let's see how many positives and negatives we have in the data:"
   ]
  },
  {
   "cell_type": "code",
   "execution_count": 256,
   "metadata": {},
   "outputs": [
    {
     "name": "stdout",
     "output_type": "stream",
     "text": [
      "Ratio of positives to total: 4.80%\n"
     ]
    }
   ],
   "source": [
    "print(\"Ratio of positives to total: {:.2f}%\".format(len(train.loc[train['target'] == 1])*100 / len(train)))"
   ]
  },
  {
   "cell_type": "markdown",
   "metadata": {},
   "source": [
    "That means our model can achieve an accuracy of 95% purley by guessing. This shows that the accuracy score is not a good metric to quanitify a model when having strongly unbalanced data [2]. "
   ]
  },
  {
   "cell_type": "markdown",
   "metadata": {},
   "source": [
    "### 1.2 Sentence structures and ratio\n",
    "\n",
    "To get an idea about the data we are dealing with, we see how many characters are in sentence. Characters include both words and punctuation."
   ]
  },
  {
   "cell_type": "code",
   "execution_count": 237,
   "metadata": {},
   "outputs": [],
   "source": [
    "def getNumberofWordsFound():\n",
    "    ## Generate random\n",
    "    population = list(np.arange(0, len(train)))\n",
    "    population = random.sample(population, 100)\n",
    "    \n",
    "    number_of_words = []\n",
    "    \n",
    "    for sample in population:\n",
    "        sentence = train['question_text'].iloc[int(sample)]\n",
    "\n",
    "        ## Convert to lowercase and split sentence\n",
    "        sentence = sentence.lower()\n",
    "\n",
    "        ## Sepearate punctuation\n",
    "        chs = string.punctuation\n",
    "        for ch in chs:\n",
    "            idx = sentence.find(ch)\n",
    "\n",
    "            if idx != -1:\n",
    "                sentence = sentence.replace(ch, \" \" + ch)\n",
    "\n",
    "        sentence = sentence.split(' ') \n",
    "        number_of_words.append(len(sentence))\n",
    "        \n",
    "    return number_of_words\n",
    "\n",
    "\n",
    "num_of_words = getNumberofWordsFound()"
   ]
  },
  {
   "cell_type": "code",
   "execution_count": 239,
   "metadata": {},
   "outputs": [
    {
     "data": {
      "image/png": "[encoded data removed]",
      "text/plain": [
       "<Figure size 1440x720 with 1 Axes>"
      ]
     },
     "metadata": {},
     "output_type": "display_data"
    }
   ],
   "source": [
    "plt.hist(num_of_words, range=(0, 30), color=\"green\")\n",
    "plt.title(\"Number of characters per sentence\")\n",
    "plt.xlabel(\"# characters\")\n",
    "plt.ylabel(\"# sentences\")\n",
    "plt.show()\n",
    "plt.show()"
   ]
  },
  {
   "cell_type": "markdown",
   "metadata": {},
   "source": [
    "**Question:**\n",
    "\n",
    "According to the Central Limit Theorem, samples from a population of any distribution are normally distributed, given that the samples are independent. Since the distribution above isn't normal, it follows that the length of sentences is not independent. What is the explanation?"
   ]
  },
  {
   "cell_type": "markdown",
   "metadata": {},
   "source": [
    "## 2. Data Preparation\n",
    "We cannot just feed sentences to our network. Instead, we perform the following steps:\n",
    "\n",
    "* Generate a vocabulary with all words/characters in the data\n",
    "\n",
    "* Tokenize this vocabulary\n",
    "\n",
    "* Get union of vocabulary and embedding\n",
    "\n",
    "* Use tokens to express individual sentences as vectors\n",
    "\n",
    "* Pad/truncate the vectors so that all have the same length\n",
    "\n",
    "This steps can be done with libraries like in *Keras*. For illustrative purposes we first implement the steps fom scratch. Afterwards we use the *Keras* library to achieve the goal more efficiently."
   ]
  },
  {
   "cell_type": "markdown",
   "metadata": {},
   "source": [
    "### 2.1 The hard way\n",
    "\n",
    "The words are converted to lowercase and punctuation is isolated."
   ]
  },
  {
   "cell_type": "code",
   "execution_count": 60,
   "metadata": {},
   "outputs": [
    {
     "name": "stdout",
     "output_type": "stream",
     "text": [
      "Processing sentence 4999 / 5000\n"
     ]
    }
   ],
   "source": [
    "def make_vocabulary(data):\n",
    "    '''\n",
    "    Input:\n",
    "    data: series of sentences for which to build the vocabulary\n",
    "    \n",
    "    Output:\n",
    "    Dictionary of words and their frequency\n",
    "    '''\n",
    "    vocab = {}\n",
    "    for sentence_number in range(len(data)):\n",
    "        clear_output(wait=True)\n",
    "        print(\"Processing sentence {} / {}\".format(sentence_number+1 ,len(data)))\n",
    "        sentence = data[sentence_number]\n",
    "                \n",
    "        ## Sepearate punctuation\n",
    "        chs = string.punctuation\n",
    "        \n",
    "        for ch in chs:\n",
    "            idx = sentence.find(ch)\n",
    "\n",
    "            if idx != -1:\n",
    "                sentence = sentence.replace(ch, \" \" + ch)\n",
    "        \n",
    "        ## Split into words\n",
    "        sentence = sentence.split(' ')   \n",
    "        \n",
    "        for word in sentence:\n",
    "            word = word.lower()\n",
    "            try:\n",
    "                vocab[word] += 1\n",
    "            except KeyError:\n",
    "                    vocab[word] = 1\n",
    "        \n",
    "    print(\"Done\")\n",
    "        \n",
    "    return vocab\n",
    "\n",
    "vocab = make_vocabulary(train['question_text'][0:5000])\n",
    "\n",
    "# Save the vocabulary\n",
    "with open('./data/Vocabulary.p', 'wb') as handle:\n",
    "    pickle.dump(vocab, handle, protocol=pickle.HIGHEST_PROTOCOL)"
   ]
  },
  {
   "cell_type": "code",
   "execution_count": 5,
   "metadata": {},
   "outputs": [],
   "source": [
    "vocab = pickle.load(open(\"./data/Vocabulary.p\", \"rb\") )"
   ]
  },
  {
   "cell_type": "markdown",
   "metadata": {},
   "source": [
    "### Union of vocabulary and embedding\n",
    "\n",
    "Check which words from the vocabulary can be found in the embedding. We also provide statistics."
   ]
  },
  {
   "cell_type": "code",
   "execution_count": null,
   "metadata": {},
   "outputs": [],
   "source": [
    "def getUnion(vocab, embedding):\n",
    "    '''\n",
    "    Input: vocab and embedding as dictionary\n",
    "    Output: union as list with words\n",
    "    '''\n",
    "    vocab = list(vocab.keys())\n",
    "    embedding = list(embedding.keys())\n",
    "    \n",
    "    union = []\n",
    "    i = 0\n",
    "    for word in embedding:\n",
    "        clear_output(wait=True)\n",
    "        print(\"Processing word {} / {}\".format(i ,len(embedding)))\n",
    "        \n",
    "        if word in embedding:\n",
    "            union.append(word)\n",
    "        i += 1\n",
    "    \n",
    "    return union\n",
    "\n",
    "union = getUnion(vocab, embedding)\n",
    "\n",
    "# Save the union\n",
    "with open('./data/Union.p', 'wb') as handle:\n",
    "    pickle.dump(union, handle, protocol=pickle.HIGHEST_PROTOCOL)"
   ]
  },
  {
   "cell_type": "code",
   "execution_count": null,
   "metadata": {},
   "outputs": [],
   "source": [
    "union = pickle.load(open(\"Union.p\", \"rb\") )\n",
    "\n",
    "print(\"Percent of words from vocabulary in embedding: {:.2f} \".format(len(union) / len(list(embedding.keys()))))"
   ]
  },
  {
   "cell_type": "markdown",
   "metadata": {},
   "source": [
    "### Tokenization\n",
    "\n",
    "For the net to process the input sentences the sentences have to be tokenized. That's why we create a weight matrix now. It has the dimension `[sequence len, sample, dimension]`, where the sequence length is 45 and the dimension is 300 (given from the embedding).\n",
    "\n",
    "Consequently, a sentence from the dataset is represented as a tuple of 45 vectors with dimension 300."
   ]
  },
  {
   "cell_type": "code",
   "execution_count": null,
   "metadata": {},
   "outputs": [],
   "source": [
    "seq_len = 45\n",
    "dimension = 50\n",
    "number_samples = 1000\n",
    "\n",
    "\n",
    "## Initialize matrix\n",
    "weights = np.zeros((number_samples, seq_len, dimension))\n",
    "labels = []\n",
    "\n",
    "## Extract weight matrix for each sample\n",
    "for sample in range(number_samples):\n",
    "    sentence = train['question_text'].iloc[sample]\n",
    "    label = train['target'].iloc[sample]\n",
    "    labels.append(label)\n",
    "    \n",
    "    \n",
    "    ## Convert to lowercase and split sentence\n",
    "    sentence = sentence.lower()\n",
    "\n",
    "    ## Sepearate punctuation\n",
    "    chs = string.punctuation\n",
    "    for ch in chs:\n",
    "        idx = sentence.find(ch)\n",
    "        \n",
    "        if idx != -1:\n",
    "            sentence = sentence.replace(ch, \" \" + ch)\n",
    "            \n",
    "    sentence = sentence.split(' ')   \n",
    "    \n",
    "     ## Truncate\n",
    "    sentence = sentence[0:seq_len]\n",
    "\n",
    "    ## Find weights\n",
    "    matrix_len = len(sentence)\n",
    "    weights_matrix = np.zeros((matrix_len, dimension))\n",
    "    words_found = 0\n",
    "\n",
    "    for i, word in enumerate(sentence):\n",
    "        try: \n",
    "            weights_matrix[i] = embedding[word]\n",
    "            words_found += 1\n",
    "        except KeyError:\n",
    "            weights_matrix[i] = np.random.normal(scale=0.6, size=(dimension, ))    \n",
    "    \n",
    "    \n",
    "    ## Pad with zeros to 45\n",
    "    z = np.zeros((1, dimension))\n",
    "    \n",
    "    for i in range(seq_len-matrix_len):      \n",
    "        weights_matrix = np.concatenate((weights_matrix, z), axis=0)\n",
    "     \n",
    "    weights[sample, :, :] = weights_matrix\n",
    "\n",
    "\n",
    "print(\"Dimension of weight matrix: {}\".format(weights.shape))    \n",
    "print(\"Ratio positives/total: {}\".format(labels.count(1)/number_samples))\n",
    "\n",
    "\n",
    "## Convert to torch tensors\n",
    "weights = torch.tensor(weights)\n",
    "weights = weights.float()  \n",
    "\n",
    "labels = torch.tensor(labels).float()"
   ]
  },
  {
   "cell_type": "code",
   "execution_count": null,
   "metadata": {},
   "outputs": [],
   "source": []
  },
  {
   "cell_type": "code",
   "execution_count": null,
   "metadata": {},
   "outputs": [],
   "source": []
  },
  {
   "cell_type": "markdown",
   "metadata": {},
   "source": [
    "### 2.2 The easy way - Keras tokenizer\n",
    "\n",
    "We now split the dataset into train, validation and testing. We also utilize the PyTorch Datalaoder functions to simplify batching."
   ]
  },
  {
   "cell_type": "code",
   "execution_count": 71,
   "metadata": {},
   "outputs": [],
   "source": [
    "# Build the tokenizer dictionary in the tokenizer class\n",
    "tokenizer = Tokenizer(filters='!\"#$%&()*+,-./:;<=>?@[\\\\]^_`{|}~\\t\\n')\n",
    "tokenizer.fit_on_texts(train['question_text'])\n",
    "\n",
    "# Split train set into train and validation sets\n",
    "train, validation = train_test_split(train, test_size=0.1, shuffle = True)\n",
    "train.reset_index(inplace=True)\n",
    "validation.reset_index(inplace=True)\n",
    "\n",
    "# Tokenize the questions\n",
    "train_sequences = tokenizer.texts_to_sequences(train['question_text'])\n",
    "validation_sequences = tokenizer.texts_to_sequences(validation['question_text'])\n",
    "\n",
    "# Save the tokenizer dictionary and the number of words in it\n",
    "word_index = tokenizer.word_index\n",
    "vocab_size = len(word_index)"
   ]
  },
  {
   "cell_type": "markdown",
   "metadata": {},
   "source": [
    "First we tokenize all words in the data using the `Tokenizer` from the Keras library. Note that we filter out the characters given to the `filters` attribute.\n",
    "\n",
    "Next, we split the data into training and validation data.\n",
    "\n",
    "Finally, using the tokens defined in the first step, we can tokenize the indivdual sentences from the questions. That way, we get a vector for each sentence. Here, the length is the number of words, exlcuding the characters in the filter.\n",
    "\n",
    "**Output:**\n",
    "\n",
    "`word_index`Dictionary of word and assigned number (token)\n",
    "\n",
    "`vocab_size` Int number of words in vocabulary\n",
    "\n",
    "TODO:\n",
    "* Merge similar words together\n",
    "* Include punctuation"
   ]
  },
  {
   "cell_type": "code",
   "execution_count": 94,
   "metadata": {},
   "outputs": [],
   "source": [
    "## Pad sequences with 0s so that each sequence is of the same length respresented by the max_length\n",
    "max_length = 50\n",
    "padding_type = 'pre'\n",
    "trunc_type = 'pre'\n",
    "\n",
    "train_sequences_padded = sq.pad_sequences(train_sequences, maxlen=max_length, padding=padding_type, truncating=trunc_type)\n",
    "validation_sequences_padded = sq.pad_sequences(validation_sequences, maxlen=max_length, padding=padding_type, truncating=trunc_type)"
   ]
  },
  {
   "cell_type": "code",
   "execution_count": 100,
   "metadata": {},
   "outputs": [],
   "source": [
    "## Convert data to tensors\n",
    "training_dataset = torch.utils.data.TensorDataset(torch.LongTensor(np.array(train_sequences_padded)), torch.FloatTensor(np.array(train['target'])))\n",
    "validation_dataset = torch.utils.data.TensorDataset(torch.LongTensor(np.array(validation_sequences_padded)), torch.FloatTensor(np.array(validation['target'])))"
   ]
  },
  {
   "cell_type": "markdown",
   "metadata": {},
   "source": [
    "In the dataset for training, we now have an array of length 50 with tokens for each sentence."
   ]
  },
  {
   "cell_type": "markdown",
   "metadata": {},
   "source": [
    "### 2.3 Embedding\n",
    "We use the GloVe 300 ... embedding. It was trained on ??. We want to get a tensor which includes the 300 dimensional weights for all words in our vocabulary. This `embedding_matrix` is used later by the embedding layer."
   ]
  },
  {
   "cell_type": "code",
   "execution_count": 260,
   "metadata": {},
   "outputs": [
    {
     "name": "stdout",
     "output_type": "stream",
     "text": [
      "Loading word embeddings...\n",
      "Finished loading word embeddings. 3659 words loaded.\n"
     ]
    }
   ],
   "source": [
    "def load_embedding(embedding_File, embedding_dim, vocab_size, word_index):\n",
    "    print('Loading word embeddings...')\n",
    "    embedding_index = {}\n",
    "    with open(embedding_File,'r', encoding = 'utf8') as f:\n",
    "        for line in f:\n",
    "            values = line.split();\n",
    "            word = ''.join(values[:-1*embedding_dim]);\n",
    "            coefs = np.asarray(values[-1*embedding_dim:], dtype='float32');\n",
    "            embedding_index[word] = coefs;\n",
    "\n",
    "    embedding_matrix = np.zeros((vocab_size+1, embedding_dim));\n",
    "    for word, i in word_index.items():\n",
    "        embedding_vector = embedding_index.get(word);\n",
    "        if embedding_vector is not None:\n",
    "            embedding_matrix[i] = embedding_vector;  \n",
    "            \n",
    "    print('Finished loading word embeddings. {:.0f} words loaded.'.format(len(embedding_matrix)))\n",
    "    return embedding_matrix\n",
    "\n",
    "## Load embedding\n",
    "embedding_dim = 50\n",
    "embedding_File = './data/embeddings/glove.6B.50d.txt'\n",
    "\n",
    "embedding_matrix = load_embedding(embedding_File, embedding_dim, vocab_size, word_index)\n",
    "weights = torch.FloatTensor(embedding_matrix)"
   ]
  },
  {
   "cell_type": "markdown",
   "metadata": {},
   "source": [
    "## 3. Prediction"
   ]
  },
  {
   "cell_type": "markdown",
   "metadata": {},
   "source": [
    "### 3.1 Net\n",
    "The net has an embedding layer which feeds into the LSTM layer. The LSTM is connected to a linear layer.\n",
    "\n",
    "For the LSTM layer we want a many-to-one architecture. That means we want to feed in the sequence (whole sentence) and get one output.\n",
    "\n",
    "The LSTM layer has the outputs `lstm_out, (h_n, c_n)`. To get the many-to-one output, you can either take the last element of the sequence `lstm_out`, or `h_n` which is the same. For more info see the documentation [https://pytorch.org/docs/stable/nn.html#lstm]."
   ]
  },
  {
   "cell_type": "code",
   "execution_count": 263,
   "metadata": {},
   "outputs": [],
   "source": [
    "class Net(nn.Module):\n",
    "    def __init__(self, seq_length, hidden_layer_1):\n",
    "        super(Net, self).__init__()\n",
    "        \n",
    "        ## Embedding layer\n",
    "        #self.seq_length = seq_length\n",
    "        self.embd = nn.Embedding.from_pretrained(weights)\n",
    "        \n",
    "        ## LSTM\n",
    "        self.lstm = nn.LSTM(input_size=len(weights[0,:]), hidden_size=hidden_layer_1, batch_first=True)\n",
    "        \n",
    "        ## Linear layer\n",
    "        self.fc1 = nn.Linear(hidden_layer_1, 1)\n",
    "        self.out = nn.Sigmoid()\n",
    "\n",
    "    def forward(self, x):\n",
    "        embd_out = self.embd(x)         \n",
    "        lstm_out, (h_out, _) = self.lstm(embd_out)        \n",
    "        x = self.out(self.fc1(h_out))\n",
    "        \n",
    "        return x"
   ]
  },
  {
   "cell_type": "markdown",
   "metadata": {},
   "source": [
    "### 3.2 Train the net"
   ]
  },
  {
   "cell_type": "code",
   "execution_count": 265,
   "metadata": {},
   "outputs": [
    {
     "name": "stdout",
     "output_type": "stream",
     "text": [
      "Epoch 1 / 2\n",
      "Loss: 0.0196\n",
      "Training accuracy: 0.95 | Validation accuracy: 96.00\n",
      "Epoch 2 / 2\n",
      "Loss: 0.0798\n",
      "Training accuracy: 0.95 | Validation accuracy: 96.00\n",
      "\n",
      "Training completed!\n"
     ]
    }
   ],
   "source": [
    "### Function for training\n",
    "epochs = 2\n",
    "learning_rate = 0.01\n",
    "momentum = 0.9\n",
    "\n",
    "seq_length = 50\n",
    "hidden_layer = 50\n",
    "\n",
    "batch_size = 1\n",
    "\n",
    "\n",
    "## Define dataloader\n",
    "train_loader = torch.utils.data.DataLoader(dataset=training_dataset, batch_size=batch_size, shuffle=True)\n",
    "validation_loader = torch.utils.data.DataLoader(dataset=validation_dataset, batch_size=len(validation_dataset), shuffle=False)\n",
    "\n",
    "## Initialize net and define loss function and optimizer\n",
    "net = Net(seq_length, hidden_layer)\n",
    "criterion = nn.BCELoss()\n",
    "optimizer = torch.optim.SGD(net.parameters(), lr=learning_rate, momentum=momentum)\n",
    "\n",
    "\n",
    "##### Iterate through the data\n",
    "loss_acc = {'Loss': [], 'Train accuracy': [], 'Validation accuracy':[]}\n",
    "\n",
    "for epoch in range(epochs):\n",
    "    print(\"Epoch {} / {}\".format(epoch+1, epochs))\n",
    "    train_loss_sub =[]\n",
    "    train_acc_sub = []\n",
    "      \n",
    "    train_correct = 0    \n",
    "    net.train()   \n",
    "    for x, y in train_loader:\n",
    "        # Set gradients to zero\n",
    "        optimizer.zero_grad()\n",
    "        \n",
    "        # Forward pass\n",
    "        y_hat = net(x)\n",
    "        \n",
    "        # Evaluate output / compute loss\n",
    "        y_hat = y_hat.view(-1)        \n",
    "        loss = criterion(y_hat, y)       \n",
    "        \n",
    "        # Backward pass / optimize\n",
    "        loss.backward()\n",
    "        \n",
    "        # Update weights\n",
    "        optimizer.step()\n",
    "                \n",
    "        ## Evaluate train result\n",
    "        y_hat = np.where(y_hat.detach().numpy() > 0.5, 1, 0)\n",
    "        train_correct += (y_hat == y.numpy()).sum()\n",
    "        loss_acc['Loss'].append(loss.item())\n",
    "        \n",
    "    net.eval()\n",
    "    val_correct = 0    \n",
    "    for x, y in validation_loader:\n",
    "        y_hat = net(x)\n",
    "        \n",
    "        ## Evaluate validation result\n",
    "        y_hat = np.where(y_hat.detach().numpy() > 0.5, 1, 0)\n",
    "        val_correct += (y_hat == y.numpy()).sum()\n",
    "    \n",
    "    train_acc = train_correct / len(train_loader.dataset)\n",
    "    val_acc = val_correct / len(validation_loader.dataset)\n",
    "    \n",
    "    loss_acc['Train accuracy'].append(train_acc)\n",
    "    loss_acc['Validation accuracy'].append(val_acc)\n",
    "    \n",
    "    print(\"Loss: {:.4f}\".format(loss_acc['Loss'][-1]))\n",
    "    print(\"Training accuracy: {:.2f} | Validation accuracy: {:.2f}\".format(loss_acc['Train accuracy'][-1], loss_acc['Validation accuracy'][-1]))\n",
    "\n",
    "\n",
    "print(\"\\nTraining completed!\")"
   ]
  },
  {
   "cell_type": "code",
   "execution_count": 266,
   "metadata": {},
   "outputs": [
    {
     "data": {
      "text/plain": [
       "Text(0,0.5,'Accuracy [%]')"
      ]
     },
     "execution_count": 266,
     "metadata": {},
     "output_type": "execute_result"
    },
    {
     "data": {
      "image/png": "[encoded data removed]",
      "text/plain": [
       "<Figure size 1440x720 with 1 Axes>"
      ]
     },
     "metadata": {},
     "output_type": "display_data"
    },
    {
     "data": {
      "image/png": "[encoded data removed]",
      "text/plain": [
       "<Figure size 1440x720 with 1 Axes>"
      ]
     },
     "metadata": {},
     "output_type": "display_data"
    }
   ],
   "source": [
    "## Plots\n",
    "fig = plt.figure(1)\n",
    "plt.plot(loss_acc['Loss'], color=\"red\")\n",
    "plt.title(\"Loss\")\n",
    "plt.xlabel(\"Iteration\")\n",
    "plt.ylabel(\"Loss [-]\")\n",
    "\n",
    "fig = plt.figure(2)\n",
    "plt.plot(loss_acc['Train accuracy'], \"o-\", color=\"black\", label=\"Train\")\n",
    "plt.plot(loss_acc['Validation accuracy'], \"^-\",color=\"blue\", label=\"Validation\")\n",
    "plt.title(\"Accuracy\")\n",
    "plt.xlabel(\"Epoch\")\n",
    "plt.legend()\n",
    "plt.ylabel(\"Accuracy [%]\")"
   ]
  },
  {
   "cell_type": "markdown",
   "metadata": {},
   "source": [
    "## 4. Evaluation"
   ]
  },
  {
   "cell_type": "code",
   "execution_count": null,
   "metadata": {},
   "outputs": [],
   "source": []
  },
  {
   "cell_type": "code",
   "execution_count": null,
   "metadata": {},
   "outputs": [],
   "source": []
  },
  {
   "cell_type": "markdown",
   "metadata": {},
   "source": [
    "## References\n",
    "[1] *GloVe: Global Vectors for Word Representation.* Jeffrey Pennington, Richard Socher, and Christopher D. Manning. 2014.\n",
    "\n",
    "[2]"
   ]
  }
 ],
 "metadata": {
  "kernelspec": {
   "display_name": "Python 3",
   "language": "python",
   "name": "python3"
  },
  "language_info": {
   "codemirror_mode": {
    "name": "ipython",
    "version": 3
   },
   "file_extension": ".py",
   "mimetype": "text/x-python",
   "name": "python",
   "nbconvert_exporter": "python",
   "pygments_lexer": "ipython3",
   "version": "3.6.5"
  }
 },
 "nbformat": 4,
 "nbformat_minor": 2
}
